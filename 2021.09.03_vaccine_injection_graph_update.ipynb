{
 "cells": [
  {
   "cell_type": "code",
   "execution_count": 51,
   "id": "248dc8f9",
   "metadata": {},
   "outputs": [
    {
     "data": {
      "text/html": [
       "<div>\n",
       "<style scoped>\n",
       "    .dataframe tbody tr th:only-of-type {\n",
       "        vertical-align: middle;\n",
       "    }\n",
       "\n",
       "    .dataframe tbody tr th {\n",
       "        vertical-align: top;\n",
       "    }\n",
       "\n",
       "    .dataframe thead th {\n",
       "        text-align: right;\n",
       "    }\n",
       "</style>\n",
       "<table border=\"1\" class=\"dataframe\">\n",
       "  <thead>\n",
       "    <tr style=\"text-align: right;\">\n",
       "      <th></th>\n",
       "      <th>Unnamed: 0</th>\n",
       "      <th>구분</th>\n",
       "      <th>1회차 당일 접종</th>\n",
       "      <th>1회차 당일 누계</th>\n",
       "      <th>접종완료 당일 실적</th>\n",
       "      <th>접종완료 당일 누계</th>\n",
       "    </tr>\n",
       "  </thead>\n",
       "  <tbody>\n",
       "    <tr>\n",
       "      <th>0</th>\n",
       "      <td>1</td>\n",
       "      <td>서울특별시강남구보건소</td>\n",
       "      <td>1891.0</td>\n",
       "      <td>285976.0</td>\n",
       "      <td>5094.0</td>\n",
       "      <td>163555.0</td>\n",
       "    </tr>\n",
       "    <tr>\n",
       "      <th>1</th>\n",
       "      <td>2</td>\n",
       "      <td>서울특별시강동구보건소</td>\n",
       "      <td>1676.0</td>\n",
       "      <td>258219.0</td>\n",
       "      <td>5505.0</td>\n",
       "      <td>143925.0</td>\n",
       "    </tr>\n",
       "    <tr>\n",
       "      <th>2</th>\n",
       "      <td>3</td>\n",
       "      <td>서울특별시강북구보건소</td>\n",
       "      <td>921.0</td>\n",
       "      <td>179060.0</td>\n",
       "      <td>2796.0</td>\n",
       "      <td>103093.0</td>\n",
       "    </tr>\n",
       "  </tbody>\n",
       "</table>\n",
       "</div>"
      ],
      "text/plain": [
       "  Unnamed: 0           구분  1회차 당일 접종  1회차 당일 누계  접종완료 당일 실적  접종완료 당일 누계\n",
       "0          1  서울특별시강남구보건소     1891.0   285976.0      5094.0    163555.0\n",
       "1          2  서울특별시강동구보건소     1676.0   258219.0      5505.0    143925.0\n",
       "2          3  서울특별시강북구보건소      921.0   179060.0      2796.0    103093.0"
      ]
     },
     "execution_count": 51,
     "metadata": {},
     "output_type": "execute_result"
    }
   ],
   "source": [
    "# 질병관리청 코로나19 백신 접종 현황 사이트 점검중이라 어제 csv로 만들어 둔 파일 활용.\n",
    "# Pandas의 csv 파일 읽기 메서드 활용. 한글이 깨져 나와서 encoding = 'euc-kr' 로 지정.\n",
    "import pandas as pd\n",
    "c = pd.read_csv('C:/myPyCode/table.csv', encoding = 'euc-kr')\n",
    "c.head(3)"
   ]
  },
  {
   "cell_type": "code",
   "execution_count": 52,
   "id": "092a6f0c",
   "metadata": {},
   "outputs": [
    {
     "data": {
      "text/plain": [
       "Index(['Unnamed: 0', '구분', '1회차 당일 접종', '1회차 당일 누계', '접종완료 당일 실적',\n",
       "       '접종완료 당일 누계'],\n",
       "      dtype='object')"
      ]
     },
     "execution_count": 52,
     "metadata": {},
     "output_type": "execute_result"
    }
   ],
   "source": [
    "c.columns"
   ]
  },
  {
   "cell_type": "code",
   "execution_count": 53,
   "id": "472005fa",
   "metadata": {},
   "outputs": [
    {
     "data": {
      "text/html": [
       "<div>\n",
       "<style scoped>\n",
       "    .dataframe tbody tr th:only-of-type {\n",
       "        vertical-align: middle;\n",
       "    }\n",
       "\n",
       "    .dataframe tbody tr th {\n",
       "        vertical-align: top;\n",
       "    }\n",
       "\n",
       "    .dataframe thead th {\n",
       "        text-align: right;\n",
       "    }\n",
       "</style>\n",
       "<table border=\"1\" class=\"dataframe\">\n",
       "  <thead>\n",
       "    <tr style=\"text-align: right;\">\n",
       "      <th></th>\n",
       "      <th>구분</th>\n",
       "      <th>1회차 당일 접종</th>\n",
       "      <th>1회차 당일 누계</th>\n",
       "      <th>접종완료 당일 실적</th>\n",
       "      <th>접종완료 당일 누계</th>\n",
       "    </tr>\n",
       "  </thead>\n",
       "  <tbody>\n",
       "    <tr>\n",
       "      <th>24</th>\n",
       "      <td>서울특별시중랑구보건소</td>\n",
       "      <td>1364.0</td>\n",
       "      <td>226033.00</td>\n",
       "      <td>3655.0</td>\n",
       "      <td>126960.00</td>\n",
       "    </tr>\n",
       "    <tr>\n",
       "      <th>25</th>\n",
       "      <td>합계</td>\n",
       "      <td>34235.0</td>\n",
       "      <td>5450266.00</td>\n",
       "      <td>94420.0</td>\n",
       "      <td>3054297.00</td>\n",
       "    </tr>\n",
       "    <tr>\n",
       "      <th>26</th>\n",
       "      <td>평균</td>\n",
       "      <td>1369.4</td>\n",
       "      <td>218010.64</td>\n",
       "      <td>3776.8</td>\n",
       "      <td>122171.88</td>\n",
       "    </tr>\n",
       "  </tbody>\n",
       "</table>\n",
       "</div>"
      ],
      "text/plain": [
       "             구분  1회차 당일 접종   1회차 당일 누계  접종완료 당일 실적  접종완료 당일 누계\n",
       "24  서울특별시중랑구보건소     1364.0   226033.00      3655.0   126960.00\n",
       "25           합계    34235.0  5450266.00     94420.0  3054297.00\n",
       "26           평균     1369.4   218010.64      3776.8   122171.88"
      ]
     },
     "execution_count": 53,
     "metadata": {},
     "output_type": "execute_result"
    }
   ],
   "source": [
    "c = c.drop(['Unnamed: 0'], axis = 1)\n",
    "c.tail(3)"
   ]
  },
  {
   "cell_type": "code",
   "execution_count": 54,
   "id": "c5d92238",
   "metadata": {},
   "outputs": [
    {
     "data": {
      "text/html": [
       "<div>\n",
       "<style scoped>\n",
       "    .dataframe tbody tr th:only-of-type {\n",
       "        vertical-align: middle;\n",
       "    }\n",
       "\n",
       "    .dataframe tbody tr th {\n",
       "        vertical-align: top;\n",
       "    }\n",
       "\n",
       "    .dataframe thead th {\n",
       "        text-align: right;\n",
       "    }\n",
       "</style>\n",
       "<table border=\"1\" class=\"dataframe\">\n",
       "  <thead>\n",
       "    <tr style=\"text-align: right;\">\n",
       "      <th></th>\n",
       "      <th>구분</th>\n",
       "      <th>1회차 당일 접종</th>\n",
       "      <th>1회차 당일 누계</th>\n",
       "      <th>접종완료 당일 실적</th>\n",
       "      <th>접종완료 당일 누계</th>\n",
       "    </tr>\n",
       "  </thead>\n",
       "  <tbody>\n",
       "    <tr>\n",
       "      <th>21</th>\n",
       "      <td>서울특별시은평구보건소</td>\n",
       "      <td>1361.0</td>\n",
       "      <td>270593.0</td>\n",
       "      <td>3811.0</td>\n",
       "      <td>154314.0</td>\n",
       "    </tr>\n",
       "    <tr>\n",
       "      <th>22</th>\n",
       "      <td>서울특별시종로구보건소</td>\n",
       "      <td>685.0</td>\n",
       "      <td>114927.0</td>\n",
       "      <td>1403.0</td>\n",
       "      <td>69333.0</td>\n",
       "    </tr>\n",
       "    <tr>\n",
       "      <th>23</th>\n",
       "      <td>서울특별시중구보건소</td>\n",
       "      <td>474.0</td>\n",
       "      <td>84201.0</td>\n",
       "      <td>1450.0</td>\n",
       "      <td>50264.0</td>\n",
       "    </tr>\n",
       "    <tr>\n",
       "      <th>24</th>\n",
       "      <td>서울특별시중랑구보건소</td>\n",
       "      <td>1364.0</td>\n",
       "      <td>226033.0</td>\n",
       "      <td>3655.0</td>\n",
       "      <td>126960.0</td>\n",
       "    </tr>\n",
       "  </tbody>\n",
       "</table>\n",
       "</div>"
      ],
      "text/plain": [
       "             구분  1회차 당일 접종  1회차 당일 누계  접종완료 당일 실적  접종완료 당일 누계\n",
       "21  서울특별시은평구보건소     1361.0   270593.0      3811.0    154314.0\n",
       "22  서울특별시종로구보건소      685.0   114927.0      1403.0     69333.0\n",
       "23   서울특별시중구보건소      474.0    84201.0      1450.0     50264.0\n",
       "24  서울특별시중랑구보건소     1364.0   226033.0      3655.0    126960.0"
      ]
     },
     "execution_count": 54,
     "metadata": {},
     "output_type": "execute_result"
    }
   ],
   "source": [
    "c = c[0:25]\n",
    "c.tail(4)"
   ]
  },
  {
   "cell_type": "code",
   "execution_count": 55,
   "id": "69fc3c67",
   "metadata": {},
   "outputs": [
    {
     "data": {
      "text/html": [
       "<div>\n",
       "<style scoped>\n",
       "    .dataframe tbody tr th:only-of-type {\n",
       "        vertical-align: middle;\n",
       "    }\n",
       "\n",
       "    .dataframe tbody tr th {\n",
       "        vertical-align: top;\n",
       "    }\n",
       "\n",
       "    .dataframe thead th {\n",
       "        text-align: right;\n",
       "    }\n",
       "</style>\n",
       "<table border=\"1\" class=\"dataframe\">\n",
       "  <thead>\n",
       "    <tr style=\"text-align: right;\">\n",
       "      <th></th>\n",
       "      <th>행정구</th>\n",
       "      <th>1회차_당일</th>\n",
       "      <th>1회차_누계</th>\n",
       "      <th>접종완료_당일</th>\n",
       "      <th>접종완료_누계</th>\n",
       "    </tr>\n",
       "  </thead>\n",
       "  <tbody>\n",
       "    <tr>\n",
       "      <th>22</th>\n",
       "      <td>서울특별시종로구보건소</td>\n",
       "      <td>685.0</td>\n",
       "      <td>114927.0</td>\n",
       "      <td>1403.0</td>\n",
       "      <td>69333.0</td>\n",
       "    </tr>\n",
       "    <tr>\n",
       "      <th>23</th>\n",
       "      <td>서울특별시중구보건소</td>\n",
       "      <td>474.0</td>\n",
       "      <td>84201.0</td>\n",
       "      <td>1450.0</td>\n",
       "      <td>50264.0</td>\n",
       "    </tr>\n",
       "    <tr>\n",
       "      <th>24</th>\n",
       "      <td>서울특별시중랑구보건소</td>\n",
       "      <td>1364.0</td>\n",
       "      <td>226033.0</td>\n",
       "      <td>3655.0</td>\n",
       "      <td>126960.0</td>\n",
       "    </tr>\n",
       "  </tbody>\n",
       "</table>\n",
       "</div>"
      ],
      "text/plain": [
       "            행정구  1회차_당일    1회차_누계  접종완료_당일   접종완료_누계\n",
       "22  서울특별시종로구보건소   685.0  114927.0   1403.0   69333.0\n",
       "23   서울특별시중구보건소   474.0   84201.0   1450.0   50264.0\n",
       "24  서울특별시중랑구보건소  1364.0  226033.0   3655.0  126960.0"
      ]
     },
     "execution_count": 55,
     "metadata": {},
     "output_type": "execute_result"
    }
   ],
   "source": [
    "# 열(column) 명칭 일괄 변경.\n",
    "c.columns = ['행정구', '1회차_당일', '1회차_누계', '접종완료_당일', '접종완료_누계']\n",
    "c.tail(3)"
   ]
  },
  {
   "cell_type": "code",
   "execution_count": 56,
   "id": "cb709cc0",
   "metadata": {},
   "outputs": [
    {
     "data": {
      "text/html": [
       "<div>\n",
       "<style scoped>\n",
       "    .dataframe tbody tr th:only-of-type {\n",
       "        vertical-align: middle;\n",
       "    }\n",
       "\n",
       "    .dataframe tbody tr th {\n",
       "        vertical-align: top;\n",
       "    }\n",
       "\n",
       "    .dataframe thead th {\n",
       "        text-align: right;\n",
       "    }\n",
       "</style>\n",
       "<table border=\"1\" class=\"dataframe\">\n",
       "  <thead>\n",
       "    <tr style=\"text-align: right;\">\n",
       "      <th></th>\n",
       "      <th>행정구</th>\n",
       "      <th>1회차_당일</th>\n",
       "      <th>1회차_누계</th>\n",
       "      <th>접종완료_당일</th>\n",
       "      <th>접종완료_누계</th>\n",
       "    </tr>\n",
       "  </thead>\n",
       "  <tbody>\n",
       "    <tr>\n",
       "      <th>22</th>\n",
       "      <td>종로구</td>\n",
       "      <td>685.0</td>\n",
       "      <td>114927.0</td>\n",
       "      <td>1403.0</td>\n",
       "      <td>69333.0</td>\n",
       "    </tr>\n",
       "    <tr>\n",
       "      <th>23</th>\n",
       "      <td>중구</td>\n",
       "      <td>474.0</td>\n",
       "      <td>84201.0</td>\n",
       "      <td>1450.0</td>\n",
       "      <td>50264.0</td>\n",
       "    </tr>\n",
       "    <tr>\n",
       "      <th>24</th>\n",
       "      <td>중랑구</td>\n",
       "      <td>1364.0</td>\n",
       "      <td>226033.0</td>\n",
       "      <td>3655.0</td>\n",
       "      <td>126960.0</td>\n",
       "    </tr>\n",
       "  </tbody>\n",
       "</table>\n",
       "</div>"
      ],
      "text/plain": [
       "    행정구  1회차_당일    1회차_누계  접종완료_당일   접종완료_누계\n",
       "22  종로구   685.0  114927.0   1403.0   69333.0\n",
       "23   중구   474.0   84201.0   1450.0   50264.0\n",
       "24  중랑구  1364.0  226033.0   3655.0  126960.0"
      ]
     },
     "execution_count": 56,
     "metadata": {},
     "output_type": "execute_result"
    }
   ],
   "source": [
    "# strip 메서드 활용하여 행정구만 표기.\n",
    "c['행정구'] = c['행정구'].str.strip('서울특별시')\n",
    "c['행정구'] = c['행정구'].str.strip('보건소')\n",
    "c.tail(3)"
   ]
  },
  {
   "cell_type": "code",
   "execution_count": 57,
   "id": "12931586",
   "metadata": {},
   "outputs": [
    {
     "data": {
      "text/html": [
       "<div>\n",
       "<style scoped>\n",
       "    .dataframe tbody tr th:only-of-type {\n",
       "        vertical-align: middle;\n",
       "    }\n",
       "\n",
       "    .dataframe tbody tr th {\n",
       "        vertical-align: top;\n",
       "    }\n",
       "\n",
       "    .dataframe thead th {\n",
       "        text-align: right;\n",
       "    }\n",
       "</style>\n",
       "<table border=\"1\" class=\"dataframe\">\n",
       "  <thead>\n",
       "    <tr style=\"text-align: right;\">\n",
       "      <th></th>\n",
       "      <th>행정구</th>\n",
       "      <th>1회차_당일</th>\n",
       "      <th>접종완료_당일</th>\n",
       "    </tr>\n",
       "  </thead>\n",
       "  <tbody>\n",
       "    <tr>\n",
       "      <th>22</th>\n",
       "      <td>종로구</td>\n",
       "      <td>685.0</td>\n",
       "      <td>1403.0</td>\n",
       "    </tr>\n",
       "    <tr>\n",
       "      <th>23</th>\n",
       "      <td>중구</td>\n",
       "      <td>474.0</td>\n",
       "      <td>1450.0</td>\n",
       "    </tr>\n",
       "    <tr>\n",
       "      <th>24</th>\n",
       "      <td>중랑구</td>\n",
       "      <td>1364.0</td>\n",
       "      <td>3655.0</td>\n",
       "    </tr>\n",
       "  </tbody>\n",
       "</table>\n",
       "</div>"
      ],
      "text/plain": [
       "    행정구  1회차_당일  접종완료_당일\n",
       "22  종로구   685.0   1403.0\n",
       "23   중구   474.0   1450.0\n",
       "24  중랑구  1364.0   3655.0"
      ]
     },
     "execution_count": 57,
     "metadata": {},
     "output_type": "execute_result"
    }
   ],
   "source": [
    "# 필요한 데이터만 추출하기 위해 drop 메서드로 필요 없는 데이터(열, column) 삭제\n",
    "today_total = c.drop(['1회차_누계','접종완료_누계'],axis = 1)\n",
    "today_total.tail(3)"
   ]
  },
  {
   "cell_type": "code",
   "execution_count": 58,
   "id": "6a431256",
   "metadata": {},
   "outputs": [
    {
     "data": {
      "text/html": [
       "<div>\n",
       "<style scoped>\n",
       "    .dataframe tbody tr th:only-of-type {\n",
       "        vertical-align: middle;\n",
       "    }\n",
       "\n",
       "    .dataframe tbody tr th {\n",
       "        vertical-align: top;\n",
       "    }\n",
       "\n",
       "    .dataframe thead th {\n",
       "        text-align: right;\n",
       "    }\n",
       "</style>\n",
       "<table border=\"1\" class=\"dataframe\">\n",
       "  <thead>\n",
       "    <tr style=\"text-align: right;\">\n",
       "      <th></th>\n",
       "      <th>행정구</th>\n",
       "      <th>1회차_누계</th>\n",
       "      <th>접종완료_누계</th>\n",
       "    </tr>\n",
       "  </thead>\n",
       "  <tbody>\n",
       "    <tr>\n",
       "      <th>22</th>\n",
       "      <td>종로구</td>\n",
       "      <td>114927.0</td>\n",
       "      <td>69333.0</td>\n",
       "    </tr>\n",
       "    <tr>\n",
       "      <th>23</th>\n",
       "      <td>중구</td>\n",
       "      <td>84201.0</td>\n",
       "      <td>50264.0</td>\n",
       "    </tr>\n",
       "    <tr>\n",
       "      <th>24</th>\n",
       "      <td>중랑구</td>\n",
       "      <td>226033.0</td>\n",
       "      <td>126960.0</td>\n",
       "    </tr>\n",
       "  </tbody>\n",
       "</table>\n",
       "</div>"
      ],
      "text/plain": [
       "    행정구    1회차_누계   접종완료_누계\n",
       "22  종로구  114927.0   69333.0\n",
       "23   중구   84201.0   50264.0\n",
       "24  중랑구  226033.0  126960.0"
      ]
     },
     "execution_count": 58,
     "metadata": {},
     "output_type": "execute_result"
    }
   ],
   "source": [
    "# 필요한 데이터만 추출하기 위해 drop 메서드로 필요 없는 데이터(열, column) 삭제\n",
    "sum_total = c.drop(['1회차_당일','접종완료_당일'],axis = 1)\n",
    "sum_total.tail(3)"
   ]
  },
  {
   "cell_type": "code",
   "execution_count": 59,
   "id": "94ed3611",
   "metadata": {},
   "outputs": [
    {
     "data": {
      "text/html": [
       "<div>\n",
       "<style scoped>\n",
       "    .dataframe tbody tr th:only-of-type {\n",
       "        vertical-align: middle;\n",
       "    }\n",
       "\n",
       "    .dataframe tbody tr th {\n",
       "        vertical-align: top;\n",
       "    }\n",
       "\n",
       "    .dataframe thead th {\n",
       "        text-align: right;\n",
       "    }\n",
       "</style>\n",
       "<table border=\"1\" class=\"dataframe\">\n",
       "  <thead>\n",
       "    <tr style=\"text-align: right;\">\n",
       "      <th></th>\n",
       "      <th>1회차_당일</th>\n",
       "      <th>접종완료_당일</th>\n",
       "    </tr>\n",
       "    <tr>\n",
       "      <th>행정구</th>\n",
       "      <th></th>\n",
       "      <th></th>\n",
       "    </tr>\n",
       "  </thead>\n",
       "  <tbody>\n",
       "    <tr>\n",
       "      <th>종로구</th>\n",
       "      <td>685.0</td>\n",
       "      <td>1403.0</td>\n",
       "    </tr>\n",
       "    <tr>\n",
       "      <th>중구</th>\n",
       "      <td>474.0</td>\n",
       "      <td>1450.0</td>\n",
       "    </tr>\n",
       "    <tr>\n",
       "      <th>중랑구</th>\n",
       "      <td>1364.0</td>\n",
       "      <td>3655.0</td>\n",
       "    </tr>\n",
       "  </tbody>\n",
       "</table>\n",
       "</div>"
      ],
      "text/plain": [
       "     1회차_당일  접종완료_당일\n",
       "행정구                 \n",
       "종로구   685.0   1403.0\n",
       "중구    474.0   1450.0\n",
       "중랑구  1364.0   3655.0"
      ]
     },
     "execution_count": 59,
     "metadata": {},
     "output_type": "execute_result"
    }
   ],
   "source": [
    "# 인덱스를 '행정구' 열로 변경. 인덱스를 변경해야 그래프에 행정구 별로 표기 가능.\n",
    "today_total = today_total.set_index('행정구')\n",
    "today_total.tail(3)"
   ]
  },
  {
   "cell_type": "code",
   "execution_count": 60,
   "id": "4df83e62",
   "metadata": {},
   "outputs": [
    {
     "data": {
      "text/html": [
       "<div>\n",
       "<style scoped>\n",
       "    .dataframe tbody tr th:only-of-type {\n",
       "        vertical-align: middle;\n",
       "    }\n",
       "\n",
       "    .dataframe tbody tr th {\n",
       "        vertical-align: top;\n",
       "    }\n",
       "\n",
       "    .dataframe thead th {\n",
       "        text-align: right;\n",
       "    }\n",
       "</style>\n",
       "<table border=\"1\" class=\"dataframe\">\n",
       "  <thead>\n",
       "    <tr style=\"text-align: right;\">\n",
       "      <th></th>\n",
       "      <th>1회차_누계</th>\n",
       "      <th>접종완료_누계</th>\n",
       "    </tr>\n",
       "    <tr>\n",
       "      <th>행정구</th>\n",
       "      <th></th>\n",
       "      <th></th>\n",
       "    </tr>\n",
       "  </thead>\n",
       "  <tbody>\n",
       "    <tr>\n",
       "      <th>종로구</th>\n",
       "      <td>114927.0</td>\n",
       "      <td>69333.0</td>\n",
       "    </tr>\n",
       "    <tr>\n",
       "      <th>중구</th>\n",
       "      <td>84201.0</td>\n",
       "      <td>50264.0</td>\n",
       "    </tr>\n",
       "    <tr>\n",
       "      <th>중랑구</th>\n",
       "      <td>226033.0</td>\n",
       "      <td>126960.0</td>\n",
       "    </tr>\n",
       "  </tbody>\n",
       "</table>\n",
       "</div>"
      ],
      "text/plain": [
       "       1회차_누계   접종완료_누계\n",
       "행정구                    \n",
       "종로구  114927.0   69333.0\n",
       "중구    84201.0   50264.0\n",
       "중랑구  226033.0  126960.0"
      ]
     },
     "execution_count": 60,
     "metadata": {},
     "output_type": "execute_result"
    }
   ],
   "source": [
    "# 인덱스를 '행정구' 열로 변경. 인덱스를 변경해야 그래프에 행정구 별로 표기 가능.\n",
    "sum_total = sum_total.set_index('행정구')\n",
    "sum_total.tail(3)"
   ]
  },
  {
   "cell_type": "code",
   "execution_count": 63,
   "id": "26b5f548",
   "metadata": {},
   "outputs": [
    {
     "data": {
      "image/png": "[encoded data removed]",
      "text/plain": [
       "<Figure size 1080x1080 with 1 Axes>"
      ]
     },
     "metadata": {
      "needs_background": "light"
     },
     "output_type": "display_data"
    }
   ],
   "source": [
    "import matplotlib.pyplot as plt\n",
    "\n",
    "# 한글을 쓰면 폰트가 깨지기 때문에 사용할 폰트를 직접 컴퓨터에 있는 폰트로 지정.\n",
    "from matplotlib import font_manager, rc\n",
    "font_path = \"C:/Windows/Fonts/malgun.TTF\" \n",
    "font = font_manager.FontProperties(fname=font_path).get_name()\n",
    "rc('font', family=font)\n",
    "\n",
    "today_total.plot(kind = 'barh', grid = True, figsize = (15,15)) # 그래프 타입, 그리드, 그리고 사이즈 지정.\n",
    "plt.title('서울시 행정구역별 코로나19 백신 접종 1일(9/1) 현황') # 그래프에 타이틀 표기.\n",
    "plt.legend(loc='best', ncol=1, fontsize=14) # 그래프에 범례 위치, 형식, 그리고 폰트 사이즈 지정.\n",
    "plt.show()"
   ]
  },
  {
   "cell_type": "code",
   "execution_count": 64,
   "id": "fede1975",
   "metadata": {},
   "outputs": [
    {
     "data": {
      "image/png": "[encoded data removed]",
      "text/plain": [
       "<Figure size 1080x1080 with 1 Axes>"
      ]
     },
     "metadata": {
      "needs_background": "light"
     },
     "output_type": "display_data"
    }
   ],
   "source": [
    "import matplotlib.pyplot as plt\n",
    "\n",
    "# 한글을 쓰면 폰트가 깨지기 때문에 사용할 폰트를 직접 컴퓨터에 있는 폰트로 지정.\n",
    "from matplotlib import font_manager, rc\n",
    "font_path = \"C:/Windows/Fonts/malgun.TTF\" \n",
    "font = font_manager.FontProperties(fname=font_path).get_name()\n",
    "rc('font', family=font)\n",
    "\n",
    "sum_total.plot(kind = 'barh', grid = True, figsize = (15,15)) # 그래프 타입, 그리드, 그리고 사이즈 지정.\n",
    "plt.title('서울시 행정구역별 코로나19 백신 접종 누적 현황') # 그래프에 타이틀 표기.\n",
    "plt.legend(loc='best', ncol=1, fontsize=14) # 그래프에 범례 위치, 형식, 그리고 폰트 사이즈 지정.\n",
    "plt.show()"
   ]
  },
  {
   "cell_type": "code",
   "execution_count": 24,
   "id": "90a47588",
   "metadata": {},
   "outputs": [
    {
     "data": {
      "text/html": [
       "<div>\n",
       "<style scoped>\n",
       "    .dataframe tbody tr th:only-of-type {\n",
       "        vertical-align: middle;\n",
       "    }\n",
       "\n",
       "    .dataframe tbody tr th {\n",
       "        vertical-align: top;\n",
       "    }\n",
       "\n",
       "    .dataframe thead th {\n",
       "        text-align: right;\n",
       "    }\n",
       "</style>\n",
       "<table border=\"1\" class=\"dataframe\">\n",
       "  <thead>\n",
       "    <tr style=\"text-align: right;\">\n",
       "      <th></th>\n",
       "      <th>지역</th>\n",
       "      <th>1월</th>\n",
       "      <th>2월</th>\n",
       "      <th>3월</th>\n",
       "      <th>4월</th>\n",
       "      <th>5월</th>\n",
       "      <th>6월</th>\n",
       "      <th>7월</th>\n",
       "      <th>8월</th>\n",
       "      <th>합계</th>\n",
       "    </tr>\n",
       "  </thead>\n",
       "  <tbody>\n",
       "    <tr>\n",
       "      <th>0</th>\n",
       "      <td>강남구</td>\n",
       "      <td>227</td>\n",
       "      <td>118</td>\n",
       "      <td>240</td>\n",
       "      <td>428</td>\n",
       "      <td>529</td>\n",
       "      <td>792</td>\n",
       "      <td>1249</td>\n",
       "      <td>1288</td>\n",
       "      <td>38968</td>\n",
       "    </tr>\n",
       "    <tr>\n",
       "      <th>1</th>\n",
       "      <td>강동구</td>\n",
       "      <td>179</td>\n",
       "      <td>161</td>\n",
       "      <td>252</td>\n",
       "      <td>253</td>\n",
       "      <td>314</td>\n",
       "      <td>284</td>\n",
       "      <td>523</td>\n",
       "      <td>457</td>\n",
       "      <td>19384</td>\n",
       "    </tr>\n",
       "    <tr>\n",
       "      <th>2</th>\n",
       "      <td>강북구</td>\n",
       "      <td>174</td>\n",
       "      <td>124</td>\n",
       "      <td>125</td>\n",
       "      <td>133</td>\n",
       "      <td>266</td>\n",
       "      <td>164</td>\n",
       "      <td>348</td>\n",
       "      <td>333</td>\n",
       "      <td>13336</td>\n",
       "    </tr>\n",
       "    <tr>\n",
       "      <th>3</th>\n",
       "      <td>강서구</td>\n",
       "      <td>215</td>\n",
       "      <td>96</td>\n",
       "      <td>133</td>\n",
       "      <td>217</td>\n",
       "      <td>189</td>\n",
       "      <td>213</td>\n",
       "      <td>576</td>\n",
       "      <td>651</td>\n",
       "      <td>18320</td>\n",
       "    </tr>\n",
       "    <tr>\n",
       "      <th>4</th>\n",
       "      <td>관악구</td>\n",
       "      <td>162</td>\n",
       "      <td>182</td>\n",
       "      <td>129</td>\n",
       "      <td>313</td>\n",
       "      <td>226</td>\n",
       "      <td>268</td>\n",
       "      <td>1132</td>\n",
       "      <td>1001</td>\n",
       "      <td>27304</td>\n",
       "    </tr>\n",
       "  </tbody>\n",
       "</table>\n",
       "</div>"
      ],
      "text/plain": [
       "    지역   1월   2월   3월   4월   5월   6월    7월    8월     합계\n",
       "0  강남구  227  118  240  428  529  792  1249  1288  38968\n",
       "1  강동구  179  161  252  253  314  284   523   457  19384\n",
       "2  강북구  174  124  125  133  266  164   348   333  13336\n",
       "3  강서구  215   96  133  217  189  213   576   651  18320\n",
       "4  관악구  162  182  129  313  226  268  1132  1001  27304"
      ]
     },
     "execution_count": 24,
     "metadata": {},
     "output_type": "execute_result"
    }
   ],
   "source": [
    "# 행정구별 확진자 수.csv 파일 읽어 오기.\n",
    "import pandas as pd\n",
    "r_table = pd.read_csv('C:/myPyCode/행정구별 확진자 수.csv')\n",
    "r_table.head()"
   ]
  },
  {
   "cell_type": "code",
   "execution_count": 35,
   "id": "4419d099",
   "metadata": {
    "scrolled": true
   },
   "outputs": [
    {
     "data": {
      "text/html": [
       "<div>\n",
       "<style scoped>\n",
       "    .dataframe tbody tr th:only-of-type {\n",
       "        vertical-align: middle;\n",
       "    }\n",
       "\n",
       "    .dataframe tbody tr th {\n",
       "        vertical-align: top;\n",
       "    }\n",
       "\n",
       "    .dataframe thead th {\n",
       "        text-align: right;\n",
       "    }\n",
       "</style>\n",
       "<table border=\"1\" class=\"dataframe\">\n",
       "  <thead>\n",
       "    <tr style=\"text-align: right;\">\n",
       "      <th></th>\n",
       "      <th>합계</th>\n",
       "    </tr>\n",
       "  </thead>\n",
       "  <tbody>\n",
       "    <tr>\n",
       "      <th>20</th>\n",
       "      <td>15320</td>\n",
       "    </tr>\n",
       "    <tr>\n",
       "      <th>21</th>\n",
       "      <td>21024</td>\n",
       "    </tr>\n",
       "    <tr>\n",
       "      <th>22</th>\n",
       "      <td>6856</td>\n",
       "    </tr>\n",
       "    <tr>\n",
       "      <th>23</th>\n",
       "      <td>7440</td>\n",
       "    </tr>\n",
       "    <tr>\n",
       "      <th>24</th>\n",
       "      <td>13866</td>\n",
       "    </tr>\n",
       "  </tbody>\n",
       "</table>\n",
       "</div>"
      ],
      "text/plain": [
       "       합계\n",
       "20  15320\n",
       "21  21024\n",
       "22   6856\n",
       "23   7440\n",
       "24  13866"
      ]
     },
     "execution_count": 35,
     "metadata": {},
     "output_type": "execute_result"
    }
   ],
   "source": [
    "# 필요한 데이터만 추출하기 위해 drop 메서드로 필요 없는 데이터(열, column) 삭제\n",
    "p_sum = r_table.drop(['지역', '1월','2월','3월','4월','5월','6월','7월','8월'],axis = 1)\n",
    "p_sum.tail()"
   ]
  },
  {
   "cell_type": "code",
   "execution_count": 36,
   "id": "31468769",
   "metadata": {
    "scrolled": true
   },
   "outputs": [
    {
     "data": {
      "text/plain": [
       "Index(['합계'], dtype='object')"
      ]
     },
     "execution_count": 36,
     "metadata": {},
     "output_type": "execute_result"
    }
   ],
   "source": [
    "p_sum.columns"
   ]
  },
  {
   "cell_type": "code",
   "execution_count": 37,
   "id": "2f4ba3cd",
   "metadata": {},
   "outputs": [
    {
     "data": {
      "text/html": [
       "<div>\n",
       "<style scoped>\n",
       "    .dataframe tbody tr th:only-of-type {\n",
       "        vertical-align: middle;\n",
       "    }\n",
       "\n",
       "    .dataframe tbody tr th {\n",
       "        vertical-align: top;\n",
       "    }\n",
       "\n",
       "    .dataframe thead th {\n",
       "        text-align: right;\n",
       "    }\n",
       "</style>\n",
       "<table border=\"1\" class=\"dataframe\">\n",
       "  <thead>\n",
       "    <tr style=\"text-align: right;\">\n",
       "      <th></th>\n",
       "      <th>2021년 1월 ~ 8월 확진자 합계</th>\n",
       "    </tr>\n",
       "  </thead>\n",
       "  <tbody>\n",
       "    <tr>\n",
       "      <th>22</th>\n",
       "      <td>6856</td>\n",
       "    </tr>\n",
       "    <tr>\n",
       "      <th>23</th>\n",
       "      <td>7440</td>\n",
       "    </tr>\n",
       "    <tr>\n",
       "      <th>24</th>\n",
       "      <td>13866</td>\n",
       "    </tr>\n",
       "  </tbody>\n",
       "</table>\n",
       "</div>"
      ],
      "text/plain": [
       "    2021년 1월 ~ 8월 확진자 합계\n",
       "22                  6856\n",
       "23                  7440\n",
       "24                 13866"
      ]
     },
     "execution_count": 37,
     "metadata": {},
     "output_type": "execute_result"
    }
   ],
   "source": [
    "p_sum.columns = ['2021년 1월 ~ 8월 확진자 합계']\n",
    "p_sum.tail(3)"
   ]
  },
  {
   "cell_type": "code",
   "execution_count": 26,
   "id": "926ee943",
   "metadata": {
    "scrolled": true
   },
   "outputs": [
    {
     "data": {
      "text/html": [
       "<div>\n",
       "<style scoped>\n",
       "    .dataframe tbody tr th:only-of-type {\n",
       "        vertical-align: middle;\n",
       "    }\n",
       "\n",
       "    .dataframe tbody tr th {\n",
       "        vertical-align: top;\n",
       "    }\n",
       "\n",
       "    .dataframe thead th {\n",
       "        text-align: right;\n",
       "    }\n",
       "</style>\n",
       "<table border=\"1\" class=\"dataframe\">\n",
       "  <thead>\n",
       "    <tr style=\"text-align: right;\">\n",
       "      <th></th>\n",
       "      <th>행정구</th>\n",
       "      <th>1회차_당일</th>\n",
       "      <th>1회차_누계</th>\n",
       "      <th>접종완료_당일</th>\n",
       "      <th>접종완료_누계</th>\n",
       "    </tr>\n",
       "  </thead>\n",
       "  <tbody>\n",
       "    <tr>\n",
       "      <th>0</th>\n",
       "      <td>강남구</td>\n",
       "      <td>1891.0</td>\n",
       "      <td>285976.0</td>\n",
       "      <td>5094.0</td>\n",
       "      <td>163555.0</td>\n",
       "    </tr>\n",
       "    <tr>\n",
       "      <th>1</th>\n",
       "      <td>강동구</td>\n",
       "      <td>1676.0</td>\n",
       "      <td>258219.0</td>\n",
       "      <td>5505.0</td>\n",
       "      <td>143925.0</td>\n",
       "    </tr>\n",
       "  </tbody>\n",
       "</table>\n",
       "</div>"
      ],
      "text/plain": [
       "   행정구  1회차_당일    1회차_누계  접종완료_당일   접종완료_누계\n",
       "0  강남구  1891.0  285976.0   5094.0  163555.0\n",
       "1  강동구  1676.0  258219.0   5505.0  143925.0"
      ]
     },
     "execution_count": 26,
     "metadata": {},
     "output_type": "execute_result"
    }
   ],
   "source": [
    "c.head(2)"
   ]
  },
  {
   "cell_type": "code",
   "execution_count": 27,
   "id": "10eb9d40",
   "metadata": {},
   "outputs": [
    {
     "data": {
      "text/html": [
       "<div>\n",
       "<style scoped>\n",
       "    .dataframe tbody tr th:only-of-type {\n",
       "        vertical-align: middle;\n",
       "    }\n",
       "\n",
       "    .dataframe tbody tr th {\n",
       "        vertical-align: top;\n",
       "    }\n",
       "\n",
       "    .dataframe thead th {\n",
       "        text-align: right;\n",
       "    }\n",
       "</style>\n",
       "<table border=\"1\" class=\"dataframe\">\n",
       "  <thead>\n",
       "    <tr style=\"text-align: right;\">\n",
       "      <th></th>\n",
       "      <th>행정구</th>\n",
       "      <th>접종완료_당일</th>\n",
       "      <th>접종완료_누계</th>\n",
       "    </tr>\n",
       "  </thead>\n",
       "  <tbody>\n",
       "    <tr>\n",
       "      <th>22</th>\n",
       "      <td>종로구</td>\n",
       "      <td>1403.0</td>\n",
       "      <td>69333.0</td>\n",
       "    </tr>\n",
       "    <tr>\n",
       "      <th>23</th>\n",
       "      <td>중구</td>\n",
       "      <td>1450.0</td>\n",
       "      <td>50264.0</td>\n",
       "    </tr>\n",
       "    <tr>\n",
       "      <th>24</th>\n",
       "      <td>중랑구</td>\n",
       "      <td>3655.0</td>\n",
       "      <td>126960.0</td>\n",
       "    </tr>\n",
       "  </tbody>\n",
       "</table>\n",
       "</div>"
      ],
      "text/plain": [
       "    행정구  접종완료_당일   접종완료_누계\n",
       "22  종로구   1403.0   69333.0\n",
       "23   중구   1450.0   50264.0\n",
       "24  중랑구   3655.0  126960.0"
      ]
     },
     "execution_count": 27,
     "metadata": {},
     "output_type": "execute_result"
    }
   ],
   "source": [
    "# 필요한 데이터만 추출하기 위해 drop 메서드로 필요 없는 데이터(열, column) 삭제\n",
    "i_total = c.drop(['1회차_당일','1회차_누계'],axis = 1)\n",
    "i_total.tail(3)"
   ]
  },
  {
   "cell_type": "code",
   "execution_count": 38,
   "id": "7f2a6a88",
   "metadata": {},
   "outputs": [
    {
     "data": {
      "text/html": [
       "<div>\n",
       "<style scoped>\n",
       "    .dataframe tbody tr th:only-of-type {\n",
       "        vertical-align: middle;\n",
       "    }\n",
       "\n",
       "    .dataframe tbody tr th {\n",
       "        vertical-align: top;\n",
       "    }\n",
       "\n",
       "    .dataframe thead th {\n",
       "        text-align: right;\n",
       "    }\n",
       "</style>\n",
       "<table border=\"1\" class=\"dataframe\">\n",
       "  <thead>\n",
       "    <tr style=\"text-align: right;\">\n",
       "      <th></th>\n",
       "      <th>행정구</th>\n",
       "      <th>접종완료_당일</th>\n",
       "      <th>접종완료_누계</th>\n",
       "      <th>2021년 1월 ~ 8월 확진자 합계</th>\n",
       "    </tr>\n",
       "  </thead>\n",
       "  <tbody>\n",
       "    <tr>\n",
       "      <th>0</th>\n",
       "      <td>강남구</td>\n",
       "      <td>5094.0</td>\n",
       "      <td>163555.0</td>\n",
       "      <td>38968</td>\n",
       "    </tr>\n",
       "    <tr>\n",
       "      <th>1</th>\n",
       "      <td>강동구</td>\n",
       "      <td>5505.0</td>\n",
       "      <td>143925.0</td>\n",
       "      <td>19384</td>\n",
       "    </tr>\n",
       "    <tr>\n",
       "      <th>2</th>\n",
       "      <td>강북구</td>\n",
       "      <td>2796.0</td>\n",
       "      <td>103093.0</td>\n",
       "      <td>13336</td>\n",
       "    </tr>\n",
       "    <tr>\n",
       "      <th>3</th>\n",
       "      <td>강서구</td>\n",
       "      <td>5778.0</td>\n",
       "      <td>184156.0</td>\n",
       "      <td>18320</td>\n",
       "    </tr>\n",
       "    <tr>\n",
       "      <th>4</th>\n",
       "      <td>관악구</td>\n",
       "      <td>3560.0</td>\n",
       "      <td>146272.0</td>\n",
       "      <td>27304</td>\n",
       "    </tr>\n",
       "  </tbody>\n",
       "</table>\n",
       "</div>"
      ],
      "text/plain": [
       "   행정구  접종완료_당일   접종완료_누계  2021년 1월 ~ 8월 확진자 합계\n",
       "0  강남구   5094.0  163555.0                 38968\n",
       "1  강동구   5505.0  143925.0                 19384\n",
       "2  강북구   2796.0  103093.0                 13336\n",
       "3  강서구   5778.0  184156.0                 18320\n",
       "4  관악구   3560.0  146272.0                 27304"
      ]
     },
     "execution_count": 38,
     "metadata": {},
     "output_type": "execute_result"
    }
   ],
   "source": [
    "table = pd.concat([i_total, p_sum], axis=1)\n",
    "table.head()"
   ]
  },
  {
   "cell_type": "code",
   "execution_count": 80,
   "id": "2c395790",
   "metadata": {},
   "outputs": [
    {
     "data": {
      "text/html": [
       "<div>\n",
       "<style scoped>\n",
       "    .dataframe tbody tr th:only-of-type {\n",
       "        vertical-align: middle;\n",
       "    }\n",
       "\n",
       "    .dataframe tbody tr th {\n",
       "        vertical-align: top;\n",
       "    }\n",
       "\n",
       "    .dataframe thead th {\n",
       "        text-align: right;\n",
       "    }\n",
       "</style>\n",
       "<table border=\"1\" class=\"dataframe\">\n",
       "  <thead>\n",
       "    <tr style=\"text-align: right;\">\n",
       "      <th></th>\n",
       "      <th>행정구</th>\n",
       "      <th>접종완료_당일</th>\n",
       "      <th>접종완료_누계</th>\n",
       "      <th>2021년 1월 ~ 8월 확진자 합계</th>\n",
       "      <th>확진자 대비 금일 코로나19 백신 접종 비율</th>\n",
       "      <th>확진자 대비 누적 코로나19 백신 접종 비율</th>\n",
       "    </tr>\n",
       "  </thead>\n",
       "  <tbody>\n",
       "    <tr>\n",
       "      <th>20</th>\n",
       "      <td>용산구</td>\n",
       "      <td>1942.0</td>\n",
       "      <td>69752.0</td>\n",
       "      <td>15320</td>\n",
       "      <td>12.676240</td>\n",
       "      <td>455.300261</td>\n",
       "    </tr>\n",
       "    <tr>\n",
       "      <th>21</th>\n",
       "      <td>은평구</td>\n",
       "      <td>3811.0</td>\n",
       "      <td>154314.0</td>\n",
       "      <td>21024</td>\n",
       "      <td>18.126903</td>\n",
       "      <td>733.989726</td>\n",
       "    </tr>\n",
       "    <tr>\n",
       "      <th>22</th>\n",
       "      <td>종로구</td>\n",
       "      <td>1403.0</td>\n",
       "      <td>69333.0</td>\n",
       "      <td>6856</td>\n",
       "      <td>20.463827</td>\n",
       "      <td>1011.274796</td>\n",
       "    </tr>\n",
       "    <tr>\n",
       "      <th>23</th>\n",
       "      <td>중구</td>\n",
       "      <td>1450.0</td>\n",
       "      <td>50264.0</td>\n",
       "      <td>7440</td>\n",
       "      <td>19.489247</td>\n",
       "      <td>675.591398</td>\n",
       "    </tr>\n",
       "    <tr>\n",
       "      <th>24</th>\n",
       "      <td>중랑구</td>\n",
       "      <td>3655.0</td>\n",
       "      <td>126960.0</td>\n",
       "      <td>13866</td>\n",
       "      <td>26.359440</td>\n",
       "      <td>915.620943</td>\n",
       "    </tr>\n",
       "  </tbody>\n",
       "</table>\n",
       "</div>"
      ],
      "text/plain": [
       "    행정구  접종완료_당일   접종완료_누계  2021년 1월 ~ 8월 확진자 합계  확진자 대비 금일 코로나19 백신 접종 비율  \\\n",
       "20  용산구   1942.0   69752.0                 15320                 12.676240   \n",
       "21  은평구   3811.0  154314.0                 21024                 18.126903   \n",
       "22  종로구   1403.0   69333.0                  6856                 20.463827   \n",
       "23   중구   1450.0   50264.0                  7440                 19.489247   \n",
       "24  중랑구   3655.0  126960.0                 13866                 26.359440   \n",
       "\n",
       "    확진자 대비 누적 코로나19 백신 접종 비율  \n",
       "20                455.300261  \n",
       "21                733.989726  \n",
       "22               1011.274796  \n",
       "23                675.591398  \n",
       "24                915.620943  "
      ]
     },
     "execution_count": 80,
     "metadata": {},
     "output_type": "execute_result"
    }
   ],
   "source": [
    "table['확진자 대비 금일 코로나19 백신 접종 비율'] = (table['접종완료_당일']/table['2021년 1월 ~ 8월 확진자 합계'])*100\n",
    "table['확진자 대비 누적 코로나19 백신 접종 비율'] = (table['접종완료_누계']/table['2021년 1월 ~ 8월 확진자 합계'])*100\n",
    "table.tail()"
   ]
  },
  {
   "cell_type": "code",
   "execution_count": 81,
   "id": "97c2d784",
   "metadata": {
    "scrolled": true
   },
   "outputs": [
    {
     "data": {
      "text/html": [
       "<div>\n",
       "<style scoped>\n",
       "    .dataframe tbody tr th:only-of-type {\n",
       "        vertical-align: middle;\n",
       "    }\n",
       "\n",
       "    .dataframe tbody tr th {\n",
       "        vertical-align: top;\n",
       "    }\n",
       "\n",
       "    .dataframe thead th {\n",
       "        text-align: right;\n",
       "    }\n",
       "</style>\n",
       "<table border=\"1\" class=\"dataframe\">\n",
       "  <thead>\n",
       "    <tr style=\"text-align: right;\">\n",
       "      <th></th>\n",
       "      <th>행정구</th>\n",
       "      <th>확진자 대비 금일 코로나19 백신 접종 비율</th>\n",
       "      <th>확진자 대비 누적 코로나19 백신 접종 비율</th>\n",
       "    </tr>\n",
       "  </thead>\n",
       "  <tbody>\n",
       "    <tr>\n",
       "      <th>20</th>\n",
       "      <td>용산구</td>\n",
       "      <td>12.676240</td>\n",
       "      <td>455.300261</td>\n",
       "    </tr>\n",
       "    <tr>\n",
       "      <th>21</th>\n",
       "      <td>은평구</td>\n",
       "      <td>18.126903</td>\n",
       "      <td>733.989726</td>\n",
       "    </tr>\n",
       "    <tr>\n",
       "      <th>22</th>\n",
       "      <td>종로구</td>\n",
       "      <td>20.463827</td>\n",
       "      <td>1011.274796</td>\n",
       "    </tr>\n",
       "    <tr>\n",
       "      <th>23</th>\n",
       "      <td>중구</td>\n",
       "      <td>19.489247</td>\n",
       "      <td>675.591398</td>\n",
       "    </tr>\n",
       "    <tr>\n",
       "      <th>24</th>\n",
       "      <td>중랑구</td>\n",
       "      <td>26.359440</td>\n",
       "      <td>915.620943</td>\n",
       "    </tr>\n",
       "  </tbody>\n",
       "</table>\n",
       "</div>"
      ],
      "text/plain": [
       "    행정구  확진자 대비 금일 코로나19 백신 접종 비율  확진자 대비 누적 코로나19 백신 접종 비율\n",
       "20  용산구                 12.676240                455.300261\n",
       "21  은평구                 18.126903                733.989726\n",
       "22  종로구                 20.463827               1011.274796\n",
       "23   중구                 19.489247                675.591398\n",
       "24  중랑구                 26.359440                915.620943"
      ]
     },
     "execution_count": 81,
     "metadata": {},
     "output_type": "execute_result"
    }
   ],
   "source": [
    "c_table = table.drop(['접종완료_당일','접종완료_누계','2021년 1월 ~ 8월 확진자 합계'],axis = 1)\n",
    "c_table.tail()"
   ]
  },
  {
   "cell_type": "code",
   "execution_count": 137,
   "id": "412febe7",
   "metadata": {},
   "outputs": [
    {
     "data": {
      "image/png": "[encoded data removed]",
      "text/plain": [
       "<Figure size 1080x1080 with 1 Axes>"
      ]
     },
     "metadata": {
      "needs_background": "light"
     },
     "output_type": "display_data"
    }
   ],
   "source": [
    "import matplotlib.pyplot as plt\n",
    "\n",
    "# 한글을 쓰면 폰트가 깨지기 때문에 사용할 폰트를 직접 컴퓨터에 있는 폰트로 지정.\n",
    "from matplotlib import font_manager, rc\n",
    "font_path = \"C:/Windows/Fonts/malgun.TTF\" \n",
    "font = font_manager.FontProperties(fname=font_path).get_name()\n",
    "rc('font', family=font)\n",
    "\n",
    "c_table.plot(kind = 'barh', grid = True, figsize = (15,15)) # 그래프 타입, 그리드, 그리고 사이즈 지정.\n",
    "plt.title('서울시 행정구역별 코로나19 백신 접종 비율') # 그래프에 타이틀 표기.\n",
    "plt.ylabel('행정구')\n",
    "plt.xlabel('비율 (%)')\n",
    "\n",
    "import numpy as np\n",
    "y_pos = np.arange(len(c_table.index))\n",
    "\n",
    "a=[]  # 가로 막대 그래프 y축 명 지정을 위해 표의 값을 리스트로 저장.\n",
    "for i in c_table.index:\n",
    "    a.append(c_table['행정구'].values[i])\n",
    "    \n",
    "plt.yticks(y_pos, a)\n",
    "\n",
    "data1=[]  # 데이터 값 표기를 위해 데이터 값 리스트로 저장.\n",
    "for i in c_table.index:\n",
    "    data1.append(c_table['확진자 대비 금일 코로나19 백신 접종 비율'].values[i])\n",
    "\n",
    "data2=[]\n",
    "for i in c_table.index:\n",
    "    data2.append(c_table['확진자 대비 누적 코로나19 백신 접종 비율'].values[i])\n",
    "\n",
    "# 그래프에 값 표시를 하기위한 함수 세트... 항목이 24개 이고 각각 표기하기 위해 for 문 사용.\n",
    "for i, v in enumerate(c_table.index):  .\n",
    "    str_val = \"%0.2f\" % data1[i]+\"%\"   # 소수점 두자리까지 표기 하기 위해 형식 지정. 비율이기 때문에 % 표기. \n",
    "    plt.text(data1[i],                 # 그래프에 값 표시하는 함수. plt.text()\n",
    "            v, str_val, fontsize=10, color='blue',       # 값 폰트 크기 및 색상 지정.\n",
    "            horizontalalignment='left', verticalalignment='top')   # 값 폰트 위치 지정.\n",
    "    \n",
    "for i, v in enumerate(c_table.index):\n",
    "    str_val = \"%0.2f\" % data2[i]+\"%\"\n",
    "    plt.text(data2[i],\n",
    "            v, str_val, fontsize=10, color='blue',\n",
    "            horizontalalignment='left', verticalalignment='bottom')\n",
    "\n",
    "plt.legend(loc='best', ncol=1, fontsize=14) # 그래프에 범례 위치, 형식, 그리고 폰트 사이즈 지정.\n",
    "plt.show()"
   ]
  },
  {
   "cell_type": "code",
   "execution_count": null,
   "id": "e01612ed",
   "metadata": {},
   "outputs": [],
   "source": []
  }
 ],
 "metadata": {
  "kernelspec": {
   "display_name": "Python 3",
   "language": "python",
   "name": "python3"
  },
  "language_info": {
   "codemirror_mode": {
    "name": "ipython",
    "version": 3
   },
   "file_extension": ".py",
   "mimetype": "text/x-python",
   "name": "python",
   "nbconvert_exporter": "python",
   "pygments_lexer": "ipython3",
   "version": "3.8.8"
  }
 },
 "nbformat": 4,
 "nbformat_minor": 5
}
