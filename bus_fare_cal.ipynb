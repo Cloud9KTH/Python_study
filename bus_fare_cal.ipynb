{
 "cells": [
  {
   "cell_type": "code",
   "execution_count": 24,
   "id": "0cb656be",
   "metadata": {},
   "outputs": [
    {
     "name": "stdout",
     "output_type": "stream",
     "text": [
      "몇살인가요?15\n",
      "현금 or 카드?카드\n",
      "버스 요금은 1250 원 입니다.\n"
     ]
    }
   ],
   "source": [
    "def bus_fare_cal() :\n",
    "    age = float(input('몇살인가요?'))    \n",
    "    if age <= 13 :\n",
    "        fare = 800    \n",
    "    elif age <= 19 :\n",
    "        fare = 1300\n",
    "    else :\n",
    "        fare = 1600\n",
    "    pay = input('현금 or 카드?')\n",
    "    if pay == '현금' :\n",
    "        print('버스 요금은', fare,'원 입니다.')\n",
    "    elif pay == '카드' :\n",
    "        print('버스 요금은', fare - 50,'원 입니다.')\n",
    "\n",
    "bus_fare_cal()"
   ]
  },
  {
   "cell_type": "code",
   "execution_count": 22,
   "id": "b22b0092",
   "metadata": {},
   "outputs": [
    {
     "name": "stdout",
     "output_type": "stream",
     "text": [
      "나이: 20\n",
      "지불방식: 현금\n",
      "버스 요금은 1600 원 입니다.\n"
     ]
    }
   ],
   "source": [
    "def bus_fare_cal(age, pay):    \n",
    "    if age <= 13 :\n",
    "        fare = 800    \n",
    "    elif age <= 19 :\n",
    "        fare = 1300\n",
    "    else :\n",
    "        fare = 1600\n",
    "    print('나이:', age)\n",
    "    if pay == '현금' :\n",
    "        print('지불방식:', pay)\n",
    "        print('버스 요금은', fare,'원 입니다.')\n",
    "    elif pay == '카드' :\n",
    "        print('지불방식:', pay)\n",
    "        print('버스 요금은', fare - 50,'원 입니다.')\n",
    "\n",
    "bus_fare_cal(20, '현금')"
   ]
  },
  {
   "cell_type": "code",
   "execution_count": null,
   "id": "97754c04",
   "metadata": {},
   "outputs": [],
   "source": []
  },
  {
   "cell_type": "code",
   "execution_count": 17,
   "id": "b0fbd5a5",
   "metadata": {},
   "outputs": [
    {
     "name": "stdout",
     "output_type": "stream",
     "text": [
      "나이: 13\n",
      "지불방식: 현금\n",
      "버스 요금은 450 원 입니다.\n"
     ]
    }
   ],
   "source": [
    "def bus_fare_cal(age, pay):\n",
    "    print('나이:', age)\n",
    "    if pay == '현금' :\n",
    "        print('지불방식:', pay)       \n",
    "        if 0< age < 8:\n",
    "            fare = '무료'\n",
    "        elif age <= 13 :\n",
    "            fare = '450 원'\n",
    "        elif age <= 19 :\n",
    "            fare = '1000 원'\n",
    "        elif 20 <= age <75:\n",
    "            fare = '1300 원'        \n",
    "        else :\n",
    "            fare = '무료'\n",
    "        print('버스 요금은', fare,'입니다.')\n",
    "    elif pay == '카드' :\n",
    "        print('지불방식:', pay)       \n",
    "        if 0< age < 8:\n",
    "            fare = '무료'\n",
    "        elif age <= 13 :\n",
    "            fare = '450 원'\n",
    "        elif age <= 19 :\n",
    "            fare = '720 원'\n",
    "        elif 20 <= age <75:\n",
    "            fare = '1200 원'        \n",
    "        else :\n",
    "            fare = '무료'\n",
    "        print('버스 요금은', fare,'입니다.')\n",
    "        \n",
    "\n",
    "bus_fare_cal(13, '현금')"
   ]
  },
  {
   "cell_type": "code",
   "execution_count": 20,
   "id": "d92fcb23",
   "metadata": {},
   "outputs": [
    {
     "name": "stdout",
     "output_type": "stream",
     "text": [
      "몇살인가요?15\n",
      "현금 or 카드?카드\n",
      "지불방식: 카드\n",
      "버스 요금은 720 원 입니다.\n"
     ]
    }
   ],
   "source": [
    "def bus_fare_cal():\n",
    "    age = float(input('몇살인가요?'))   \n",
    "    pay = input('현금 or 카드?')\n",
    "    if pay == '현금' :\n",
    "        print('지불방식:', pay)       \n",
    "        if 0< age < 8:\n",
    "            fare = '무료'\n",
    "        elif age <= 13 :\n",
    "            fare = '450 원'\n",
    "        elif age <= 19 :\n",
    "            fare = '1000 원'\n",
    "        elif 20 <= age <75:\n",
    "            fare = '1300 원'        \n",
    "        else :\n",
    "            fare = '무료'\n",
    "        print('버스 요금은', fare,'입니다.')\n",
    "    elif pay == '카드' :\n",
    "        print('지불방식:', pay)       \n",
    "        if 0< age < 8:\n",
    "            fare = '무료'\n",
    "        elif age <= 13 :\n",
    "            fare = '450 원'\n",
    "        elif age <= 19 :\n",
    "            fare = '720 원'\n",
    "        elif 20 <= age <75:\n",
    "            fare = '1200 원'        \n",
    "        else :\n",
    "            fare = '무료'\n",
    "        print('버스 요금은', fare,'입니다.')\n",
    "        \n",
    "\n",
    "bus_fare_cal()"
   ]
  },
  {
   "cell_type": "code",
   "execution_count": null,
   "id": "05cb1437",
   "metadata": {},
   "outputs": [],
   "source": []
  }
 ],
 "metadata": {
  "kernelspec": {
   "display_name": "Python 3",
   "language": "python",
   "name": "python3"
  },
  "language_info": {
   "codemirror_mode": {
    "name": "ipython",
    "version": 3
   },
   "file_extension": ".py",
   "mimetype": "text/x-python",
   "name": "python",
   "nbconvert_exporter": "python",
   "pygments_lexer": "ipython3",
   "version": "3.8.8"
  }
 },
 "nbformat": 4,
 "nbformat_minor": 5
}
