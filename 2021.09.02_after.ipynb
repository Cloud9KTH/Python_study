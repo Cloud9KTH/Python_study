{
 "cells": [
  {
   "cell_type": "code",
   "execution_count": 3,
   "id": "e9a0bfe6",
   "metadata": {},
   "outputs": [],
   "source": [
    "import pandas as pd"
   ]
  },
  {
   "cell_type": "code",
   "execution_count": 2,
   "id": "c5238790",
   "metadata": {},
   "outputs": [],
   "source": [
    "url = \"https://ncv.kdca.go.kr/mainStatus.es?mid=a11702000000\""
   ]
  },
  {
   "cell_type": "code",
   "execution_count": 4,
   "id": "618d9b77",
   "metadata": {},
   "outputs": [
    {
     "data": {
      "text/plain": [
       "2"
      ]
     },
     "execution_count": 4,
     "metadata": {},
     "output_type": "execute_result"
    }
   ],
   "source": [
    "table = pd.read_html(url, encoding = 'utf-8')\n",
    "len(table)"
   ]
  },
  {
   "cell_type": "code",
   "execution_count": 5,
   "id": "2e09ba2a",
   "metadata": {},
   "outputs": [
    {
     "data": {
      "text/html": [
       "<div>\n",
       "<style scoped>\n",
       "    .dataframe tbody tr th:only-of-type {\n",
       "        vertical-align: middle;\n",
       "    }\n",
       "\n",
       "    .dataframe tbody tr th {\n",
       "        vertical-align: top;\n",
       "    }\n",
       "\n",
       "    .dataframe thead th {\n",
       "        text-align: right;\n",
       "    }\n",
       "</style>\n",
       "<table border=\"1\" class=\"dataframe\">\n",
       "  <thead>\n",
       "    <tr style=\"text-align: right;\">\n",
       "      <th></th>\n",
       "      <th>구분</th>\n",
       "      <th>1회차 접종</th>\n",
       "      <th>2회차 접종</th>\n",
       "    </tr>\n",
       "  </thead>\n",
       "  <tbody>\n",
       "    <tr>\n",
       "      <th>0</th>\n",
       "      <td>당일 누적A + B</td>\n",
       "      <td>29458016</td>\n",
       "      <td>16283360</td>\n",
       "    </tr>\n",
       "    <tr>\n",
       "      <th>1</th>\n",
       "      <td>당일 실적A</td>\n",
       "      <td>177818</td>\n",
       "      <td>533164</td>\n",
       "    </tr>\n",
       "    <tr>\n",
       "      <th>2</th>\n",
       "      <td>전일 누적B</td>\n",
       "      <td>29280198</td>\n",
       "      <td>15750196</td>\n",
       "    </tr>\n",
       "  </tbody>\n",
       "</table>\n",
       "</div>"
      ],
      "text/plain": [
       "           구분    1회차 접종    2회차 접종\n",
       "0  당일 누적A + B  29458016  16283360\n",
       "1      당일 실적A    177818    533164\n",
       "2      전일 누적B  29280198  15750196"
      ]
     },
     "execution_count": 5,
     "metadata": {},
     "output_type": "execute_result"
    }
   ],
   "source": [
    "table[0]"
   ]
  },
  {
   "cell_type": "code",
   "execution_count": 6,
   "id": "2dcfca3d",
   "metadata": {},
   "outputs": [
    {
     "data": {
      "text/html": [
       "<div>\n",
       "<style scoped>\n",
       "    .dataframe tbody tr th:only-of-type {\n",
       "        vertical-align: middle;\n",
       "    }\n",
       "\n",
       "    .dataframe tbody tr th {\n",
       "        vertical-align: top;\n",
       "    }\n",
       "\n",
       "    .dataframe thead tr th {\n",
       "        text-align: left;\n",
       "    }\n",
       "</style>\n",
       "<table border=\"1\" class=\"dataframe\">\n",
       "  <thead>\n",
       "    <tr>\n",
       "      <th></th>\n",
       "      <th>구분</th>\n",
       "      <th colspan=\"2\" halign=\"left\">1회차 접종</th>\n",
       "      <th colspan=\"2\" halign=\"left\">2회차 접종</th>\n",
       "    </tr>\n",
       "    <tr>\n",
       "      <th></th>\n",
       "      <th>구분</th>\n",
       "      <th>당일 실적</th>\n",
       "      <th>당일 누계</th>\n",
       "      <th>당일 실적</th>\n",
       "      <th>당일 누계</th>\n",
       "    </tr>\n",
       "  </thead>\n",
       "  <tbody>\n",
       "    <tr>\n",
       "      <th>0</th>\n",
       "      <td>합계</td>\n",
       "      <td>177818</td>\n",
       "      <td>29458016</td>\n",
       "      <td>533164</td>\n",
       "      <td>16283360</td>\n",
       "    </tr>\n",
       "    <tr>\n",
       "      <th>1</th>\n",
       "      <td>서울</td>\n",
       "      <td>34235</td>\n",
       "      <td>5450266</td>\n",
       "      <td>94420</td>\n",
       "      <td>3054297</td>\n",
       "    </tr>\n",
       "    <tr>\n",
       "      <th>2</th>\n",
       "      <td>부산</td>\n",
       "      <td>9053</td>\n",
       "      <td>1983639</td>\n",
       "      <td>33604</td>\n",
       "      <td>1121817</td>\n",
       "    </tr>\n",
       "    <tr>\n",
       "      <th>3</th>\n",
       "      <td>대구</td>\n",
       "      <td>7221</td>\n",
       "      <td>1337832</td>\n",
       "      <td>26872</td>\n",
       "      <td>693819</td>\n",
       "    </tr>\n",
       "    <tr>\n",
       "      <th>4</th>\n",
       "      <td>인천</td>\n",
       "      <td>12734</td>\n",
       "      <td>1616927</td>\n",
       "      <td>29563</td>\n",
       "      <td>847192</td>\n",
       "    </tr>\n",
       "    <tr>\n",
       "      <th>5</th>\n",
       "      <td>광주</td>\n",
       "      <td>4960</td>\n",
       "      <td>816542</td>\n",
       "      <td>12921</td>\n",
       "      <td>449725</td>\n",
       "    </tr>\n",
       "    <tr>\n",
       "      <th>6</th>\n",
       "      <td>대전</td>\n",
       "      <td>6134</td>\n",
       "      <td>804767</td>\n",
       "      <td>14891</td>\n",
       "      <td>433086</td>\n",
       "    </tr>\n",
       "    <tr>\n",
       "      <th>7</th>\n",
       "      <td>울산</td>\n",
       "      <td>4150</td>\n",
       "      <td>634958</td>\n",
       "      <td>13402</td>\n",
       "      <td>315800</td>\n",
       "    </tr>\n",
       "    <tr>\n",
       "      <th>8</th>\n",
       "      <td>세종</td>\n",
       "      <td>923</td>\n",
       "      <td>171283</td>\n",
       "      <td>3509</td>\n",
       "      <td>88363</td>\n",
       "    </tr>\n",
       "    <tr>\n",
       "      <th>9</th>\n",
       "      <td>경기</td>\n",
       "      <td>46826</td>\n",
       "      <td>7249589</td>\n",
       "      <td>130584</td>\n",
       "      <td>3859905</td>\n",
       "    </tr>\n",
       "    <tr>\n",
       "      <th>10</th>\n",
       "      <td>강원</td>\n",
       "      <td>5202</td>\n",
       "      <td>953031</td>\n",
       "      <td>18825</td>\n",
       "      <td>567519</td>\n",
       "    </tr>\n",
       "    <tr>\n",
       "      <th>11</th>\n",
       "      <td>충북</td>\n",
       "      <td>5857</td>\n",
       "      <td>953377</td>\n",
       "      <td>16437</td>\n",
       "      <td>539453</td>\n",
       "    </tr>\n",
       "    <tr>\n",
       "      <th>12</th>\n",
       "      <td>충남</td>\n",
       "      <td>7331</td>\n",
       "      <td>1272097</td>\n",
       "      <td>24049</td>\n",
       "      <td>727773</td>\n",
       "    </tr>\n",
       "    <tr>\n",
       "      <th>13</th>\n",
       "      <td>전북</td>\n",
       "      <td>5660</td>\n",
       "      <td>1115357</td>\n",
       "      <td>17713</td>\n",
       "      <td>677759</td>\n",
       "    </tr>\n",
       "    <tr>\n",
       "      <th>14</th>\n",
       "      <td>전남</td>\n",
       "      <td>5593</td>\n",
       "      <td>1204482</td>\n",
       "      <td>19167</td>\n",
       "      <td>747253</td>\n",
       "    </tr>\n",
       "    <tr>\n",
       "      <th>15</th>\n",
       "      <td>경북</td>\n",
       "      <td>8513</td>\n",
       "      <td>1586167</td>\n",
       "      <td>34661</td>\n",
       "      <td>904585</td>\n",
       "    </tr>\n",
       "    <tr>\n",
       "      <th>16</th>\n",
       "      <td>경남</td>\n",
       "      <td>11492</td>\n",
       "      <td>1926263</td>\n",
       "      <td>35871</td>\n",
       "      <td>1047401</td>\n",
       "    </tr>\n",
       "    <tr>\n",
       "      <th>17</th>\n",
       "      <td>제주</td>\n",
       "      <td>1934</td>\n",
       "      <td>381439</td>\n",
       "      <td>6675</td>\n",
       "      <td>207613</td>\n",
       "    </tr>\n",
       "  </tbody>\n",
       "</table>\n",
       "</div>"
      ],
      "text/plain": [
       "    구분  1회차 접종            2회차 접종          \n",
       "    구분   당일 실적     당일 누계   당일 실적     당일 누계\n",
       "0   합계  177818  29458016  533164  16283360\n",
       "1   서울   34235   5450266   94420   3054297\n",
       "2   부산    9053   1983639   33604   1121817\n",
       "3   대구    7221   1337832   26872    693819\n",
       "4   인천   12734   1616927   29563    847192\n",
       "5   광주    4960    816542   12921    449725\n",
       "6   대전    6134    804767   14891    433086\n",
       "7   울산    4150    634958   13402    315800\n",
       "8   세종     923    171283    3509     88363\n",
       "9   경기   46826   7249589  130584   3859905\n",
       "10  강원    5202    953031   18825    567519\n",
       "11  충북    5857    953377   16437    539453\n",
       "12  충남    7331   1272097   24049    727773\n",
       "13  전북    5660   1115357   17713    677759\n",
       "14  전남    5593   1204482   19167    747253\n",
       "15  경북    8513   1586167   34661    904585\n",
       "16  경남   11492   1926263   35871   1047401\n",
       "17  제주    1934    381439    6675    207613"
      ]
     },
     "execution_count": 6,
     "metadata": {},
     "output_type": "execute_result"
    }
   ],
   "source": [
    "table[1]"
   ]
  },
  {
   "cell_type": "code",
   "execution_count": null,
   "id": "9bb5ce42",
   "metadata": {},
   "outputs": [],
   "source": [
    "# 윗부분은 송광섭님이 하신 부분, 혹시나 아래에 제가 해놓은거 참고 하실거 있음 하세요. 저도 워낙 초짜라..."
   ]
  },
  {
   "cell_type": "code",
   "execution_count": 1,
   "id": "fa7f74a4",
   "metadata": {},
   "outputs": [],
   "source": [
    "url2 = \"https://ncv.kdca.go.kr/organStatus.es?mid=a11711000000\""
   ]
  },
  {
   "cell_type": "code",
   "execution_count": 4,
   "id": "db09532a",
   "metadata": {},
   "outputs": [
    {
     "data": {
      "text/plain": [
       "1"
      ]
     },
     "execution_count": 4,
     "metadata": {},
     "output_type": "execute_result"
    }
   ],
   "source": [
    "table = pd.read_html(url2, encoding = 'utf-8')\n",
    "len(table)"
   ]
  },
  {
   "cell_type": "code",
   "execution_count": 5,
   "id": "4b4d457d",
   "metadata": {},
   "outputs": [
    {
     "data": {
      "text/html": [
       "<div>\n",
       "<style scoped>\n",
       "    .dataframe tbody tr th:only-of-type {\n",
       "        vertical-align: middle;\n",
       "    }\n",
       "\n",
       "    .dataframe tbody tr th {\n",
       "        vertical-align: top;\n",
       "    }\n",
       "\n",
       "    .dataframe thead tr th {\n",
       "        text-align: left;\n",
       "    }\n",
       "</style>\n",
       "<table border=\"1\" class=\"dataframe\">\n",
       "  <thead>\n",
       "    <tr>\n",
       "      <th></th>\n",
       "      <th>구분</th>\n",
       "      <th colspan=\"2\" halign=\"left\">1회차 접종</th>\n",
       "      <th colspan=\"2\" halign=\"left\">접종완료</th>\n",
       "    </tr>\n",
       "    <tr>\n",
       "      <th></th>\n",
       "      <th>구분</th>\n",
       "      <th>당일 접종</th>\n",
       "      <th>당일 누계</th>\n",
       "      <th>당일 실적</th>\n",
       "      <th>당일 누계</th>\n",
       "    </tr>\n",
       "  </thead>\n",
       "  <tbody>\n",
       "    <tr>\n",
       "      <th>0</th>\n",
       "      <td>합계</td>\n",
       "      <td>177818</td>\n",
       "      <td>29458016</td>\n",
       "      <td>533164</td>\n",
       "      <td>16283360</td>\n",
       "    </tr>\n",
       "    <tr>\n",
       "      <th>1</th>\n",
       "      <td>서울특별시강남구보건소</td>\n",
       "      <td>1891</td>\n",
       "      <td>285976</td>\n",
       "      <td>5094</td>\n",
       "      <td>163555</td>\n",
       "    </tr>\n",
       "    <tr>\n",
       "      <th>2</th>\n",
       "      <td>서울특별시강동구보건소</td>\n",
       "      <td>1676</td>\n",
       "      <td>258219</td>\n",
       "      <td>5505</td>\n",
       "      <td>143925</td>\n",
       "    </tr>\n",
       "    <tr>\n",
       "      <th>3</th>\n",
       "      <td>서울특별시강북구보건소</td>\n",
       "      <td>921</td>\n",
       "      <td>179060</td>\n",
       "      <td>2796</td>\n",
       "      <td>103093</td>\n",
       "    </tr>\n",
       "    <tr>\n",
       "      <th>4</th>\n",
       "      <td>서울특별시강서구보건소</td>\n",
       "      <td>1844</td>\n",
       "      <td>320366</td>\n",
       "      <td>5778</td>\n",
       "      <td>184156</td>\n",
       "    </tr>\n",
       "    <tr>\n",
       "      <th>...</th>\n",
       "      <td>...</td>\n",
       "      <td>...</td>\n",
       "      <td>...</td>\n",
       "      <td>...</td>\n",
       "      <td>...</td>\n",
       "    </tr>\n",
       "    <tr>\n",
       "      <th>254</th>\n",
       "      <td>제주특별자치도서귀포시동부보건소</td>\n",
       "      <td>98</td>\n",
       "      <td>28476</td>\n",
       "      <td>517</td>\n",
       "      <td>16453</td>\n",
       "    </tr>\n",
       "    <tr>\n",
       "      <th>255</th>\n",
       "      <td>제주특별자치도서귀포시서귀포보건소</td>\n",
       "      <td>264</td>\n",
       "      <td>59186</td>\n",
       "      <td>931</td>\n",
       "      <td>34467</td>\n",
       "    </tr>\n",
       "    <tr>\n",
       "      <th>256</th>\n",
       "      <td>제주특별자치도서귀포시서부보건소</td>\n",
       "      <td>98</td>\n",
       "      <td>19433</td>\n",
       "      <td>472</td>\n",
       "      <td>10534</td>\n",
       "    </tr>\n",
       "    <tr>\n",
       "      <th>257</th>\n",
       "      <td>제주특별자치도서부보건소</td>\n",
       "      <td>185</td>\n",
       "      <td>36168</td>\n",
       "      <td>742</td>\n",
       "      <td>20216</td>\n",
       "    </tr>\n",
       "    <tr>\n",
       "      <th>258</th>\n",
       "      <td>제주특별자치도제주보건소</td>\n",
       "      <td>1164</td>\n",
       "      <td>214559</td>\n",
       "      <td>3582</td>\n",
       "      <td>112737</td>\n",
       "    </tr>\n",
       "  </tbody>\n",
       "</table>\n",
       "<p>259 rows × 5 columns</p>\n",
       "</div>"
      ],
      "text/plain": [
       "                    구분  1회차 접종              접종완료          \n",
       "                    구분   당일 접종     당일 누계   당일 실적     당일 누계\n",
       "0                   합계  177818  29458016  533164  16283360\n",
       "1          서울특별시강남구보건소    1891    285976    5094    163555\n",
       "2          서울특별시강동구보건소    1676    258219    5505    143925\n",
       "3          서울특별시강북구보건소     921    179060    2796    103093\n",
       "4          서울특별시강서구보건소    1844    320366    5778    184156\n",
       "..                 ...     ...       ...     ...       ...\n",
       "254   제주특별자치도서귀포시동부보건소      98     28476     517     16453\n",
       "255  제주특별자치도서귀포시서귀포보건소     264     59186     931     34467\n",
       "256   제주특별자치도서귀포시서부보건소      98     19433     472     10534\n",
       "257       제주특별자치도서부보건소     185     36168     742     20216\n",
       "258       제주특별자치도제주보건소    1164    214559    3582    112737\n",
       "\n",
       "[259 rows x 5 columns]"
      ]
     },
     "execution_count": 5,
     "metadata": {},
     "output_type": "execute_result"
    }
   ],
   "source": [
    "table[0]"
   ]
  },
  {
   "cell_type": "code",
   "execution_count": 6,
   "id": "8c96403c",
   "metadata": {},
   "outputs": [],
   "source": [
    "table1 = table[0]"
   ]
  },
  {
   "cell_type": "code",
   "execution_count": 25,
   "id": "2e52a5a7",
   "metadata": {
    "scrolled": true
   },
   "outputs": [
    {
     "data": {
      "text/html": [
       "<div>\n",
       "<style scoped>\n",
       "    .dataframe tbody tr th:only-of-type {\n",
       "        vertical-align: middle;\n",
       "    }\n",
       "\n",
       "    .dataframe tbody tr th {\n",
       "        vertical-align: top;\n",
       "    }\n",
       "\n",
       "    .dataframe thead tr th {\n",
       "        text-align: left;\n",
       "    }\n",
       "</style>\n",
       "<table border=\"1\" class=\"dataframe\">\n",
       "  <thead>\n",
       "    <tr>\n",
       "      <th></th>\n",
       "      <th>구분</th>\n",
       "      <th colspan=\"2\" halign=\"left\">1회차 접종</th>\n",
       "      <th colspan=\"2\" halign=\"left\">접종완료</th>\n",
       "    </tr>\n",
       "    <tr>\n",
       "      <th></th>\n",
       "      <th>구분</th>\n",
       "      <th>당일 접종</th>\n",
       "      <th>당일 누계</th>\n",
       "      <th>당일 실적</th>\n",
       "      <th>당일 누계</th>\n",
       "    </tr>\n",
       "  </thead>\n",
       "  <tbody>\n",
       "    <tr>\n",
       "      <th>1</th>\n",
       "      <td>서울특별시강남구보건소</td>\n",
       "      <td>1891</td>\n",
       "      <td>285976</td>\n",
       "      <td>5094</td>\n",
       "      <td>163555</td>\n",
       "    </tr>\n",
       "    <tr>\n",
       "      <th>2</th>\n",
       "      <td>서울특별시강동구보건소</td>\n",
       "      <td>1676</td>\n",
       "      <td>258219</td>\n",
       "      <td>5505</td>\n",
       "      <td>143925</td>\n",
       "    </tr>\n",
       "    <tr>\n",
       "      <th>3</th>\n",
       "      <td>서울특별시강북구보건소</td>\n",
       "      <td>921</td>\n",
       "      <td>179060</td>\n",
       "      <td>2796</td>\n",
       "      <td>103093</td>\n",
       "    </tr>\n",
       "    <tr>\n",
       "      <th>4</th>\n",
       "      <td>서울특별시강서구보건소</td>\n",
       "      <td>1844</td>\n",
       "      <td>320366</td>\n",
       "      <td>5778</td>\n",
       "      <td>184156</td>\n",
       "    </tr>\n",
       "    <tr>\n",
       "      <th>5</th>\n",
       "      <td>서울특별시관악구보건소</td>\n",
       "      <td>1504</td>\n",
       "      <td>257214</td>\n",
       "      <td>3560</td>\n",
       "      <td>146272</td>\n",
       "    </tr>\n",
       "  </tbody>\n",
       "</table>\n",
       "</div>"
      ],
      "text/plain": [
       "            구분 1회차 접종          접종완료        \n",
       "            구분  당일 접종   당일 누계 당일 실적   당일 누계\n",
       "1  서울특별시강남구보건소   1891  285976  5094  163555\n",
       "2  서울특별시강동구보건소   1676  258219  5505  143925\n",
       "3  서울특별시강북구보건소    921  179060  2796  103093\n",
       "4  서울특별시강서구보건소   1844  320366  5778  184156\n",
       "5  서울특별시관악구보건소   1504  257214  3560  146272"
      ]
     },
     "execution_count": 25,
     "metadata": {},
     "output_type": "execute_result"
    }
   ],
   "source": [
    "table1[1:26].head()"
   ]
  },
  {
   "cell_type": "code",
   "execution_count": 62,
   "id": "2fbb462b",
   "metadata": {},
   "outputs": [
    {
     "data": {
      "text/html": [
       "<div>\n",
       "<style scoped>\n",
       "    .dataframe tbody tr th:only-of-type {\n",
       "        vertical-align: middle;\n",
       "    }\n",
       "\n",
       "    .dataframe tbody tr th {\n",
       "        vertical-align: top;\n",
       "    }\n",
       "\n",
       "    .dataframe thead th {\n",
       "        text-align: right;\n",
       "    }\n",
       "</style>\n",
       "<table border=\"1\" class=\"dataframe\">\n",
       "  <thead>\n",
       "    <tr style=\"text-align: right;\">\n",
       "      <th></th>\n",
       "      <th>구분</th>\n",
       "    </tr>\n",
       "  </thead>\n",
       "  <tbody>\n",
       "    <tr>\n",
       "      <th>1</th>\n",
       "      <td>서울특별시강남구보건소</td>\n",
       "    </tr>\n",
       "    <tr>\n",
       "      <th>2</th>\n",
       "      <td>서울특별시강동구보건소</td>\n",
       "    </tr>\n",
       "    <tr>\n",
       "      <th>3</th>\n",
       "      <td>서울특별시강북구보건소</td>\n",
       "    </tr>\n",
       "    <tr>\n",
       "      <th>4</th>\n",
       "      <td>서울특별시강서구보건소</td>\n",
       "    </tr>\n",
       "    <tr>\n",
       "      <th>5</th>\n",
       "      <td>서울특별시관악구보건소</td>\n",
       "    </tr>\n",
       "  </tbody>\n",
       "</table>\n",
       "</div>"
      ],
      "text/plain": [
       "            구분\n",
       "1  서울특별시강남구보건소\n",
       "2  서울특별시강동구보건소\n",
       "3  서울특별시강북구보건소\n",
       "4  서울특별시강서구보건소\n",
       "5  서울특별시관악구보건소"
      ]
     },
     "execution_count": 62,
     "metadata": {},
     "output_type": "execute_result"
    }
   ],
   "source": [
    "a = table1['구분'][1:26]\n",
    "a.replace('보건소','').head()"
   ]
  },
  {
   "cell_type": "code",
   "execution_count": 88,
   "id": "2b0dfad1",
   "metadata": {},
   "outputs": [
    {
     "data": {
      "text/html": [
       "<div>\n",
       "<style scoped>\n",
       "    .dataframe tbody tr th:only-of-type {\n",
       "        vertical-align: middle;\n",
       "    }\n",
       "\n",
       "    .dataframe tbody tr th {\n",
       "        vertical-align: top;\n",
       "    }\n",
       "\n",
       "    .dataframe thead th {\n",
       "        text-align: right;\n",
       "    }\n",
       "</style>\n",
       "<table border=\"1\" class=\"dataframe\">\n",
       "  <thead>\n",
       "    <tr style=\"text-align: right;\">\n",
       "      <th></th>\n",
       "    </tr>\n",
       "    <tr>\n",
       "      <th>구분</th>\n",
       "    </tr>\n",
       "  </thead>\n",
       "  <tbody>\n",
       "    <tr>\n",
       "      <th>서울특별시용산구보건소</th>\n",
       "    </tr>\n",
       "    <tr>\n",
       "      <th>서울특별시은평구보건소</th>\n",
       "    </tr>\n",
       "    <tr>\n",
       "      <th>서울특별시종로구보건소</th>\n",
       "    </tr>\n",
       "    <tr>\n",
       "      <th>서울특별시중구보건소</th>\n",
       "    </tr>\n",
       "    <tr>\n",
       "      <th>서울특별시중랑구보건소</th>\n",
       "    </tr>\n",
       "  </tbody>\n",
       "</table>\n",
       "</div>"
      ],
      "text/plain": [
       "Empty DataFrame\n",
       "Columns: []\n",
       "Index: [서울특별시용산구보건소, 서울특별시은평구보건소, 서울특별시종로구보건소, 서울특별시중구보건소, 서울특별시중랑구보건소]"
      ]
     },
     "execution_count": 88,
     "metadata": {},
     "output_type": "execute_result"
    }
   ],
   "source": [
    "b = a.set_index('구분')\n",
    "b.tail()"
   ]
  },
  {
   "cell_type": "code",
   "execution_count": 8,
   "id": "ec4c987a",
   "metadata": {},
   "outputs": [
    {
     "data": {
      "text/html": [
       "<div>\n",
       "<style scoped>\n",
       "    .dataframe tbody tr th:only-of-type {\n",
       "        vertical-align: middle;\n",
       "    }\n",
       "\n",
       "    .dataframe tbody tr th {\n",
       "        vertical-align: top;\n",
       "    }\n",
       "\n",
       "    .dataframe thead th {\n",
       "        text-align: right;\n",
       "    }\n",
       "</style>\n",
       "<table border=\"1\" class=\"dataframe\">\n",
       "  <thead>\n",
       "    <tr style=\"text-align: right;\">\n",
       "      <th></th>\n",
       "      <th>당일 접종</th>\n",
       "      <th>당일 누계</th>\n",
       "    </tr>\n",
       "  </thead>\n",
       "  <tbody>\n",
       "    <tr>\n",
       "      <th>1</th>\n",
       "      <td>1891</td>\n",
       "      <td>285976</td>\n",
       "    </tr>\n",
       "    <tr>\n",
       "      <th>2</th>\n",
       "      <td>1676</td>\n",
       "      <td>258219</td>\n",
       "    </tr>\n",
       "    <tr>\n",
       "      <th>3</th>\n",
       "      <td>921</td>\n",
       "      <td>179060</td>\n",
       "    </tr>\n",
       "    <tr>\n",
       "      <th>4</th>\n",
       "      <td>1844</td>\n",
       "      <td>320366</td>\n",
       "    </tr>\n",
       "    <tr>\n",
       "      <th>5</th>\n",
       "      <td>1504</td>\n",
       "      <td>257214</td>\n",
       "    </tr>\n",
       "  </tbody>\n",
       "</table>\n",
       "</div>"
      ],
      "text/plain": [
       "   당일 접종   당일 누계\n",
       "1   1891  285976\n",
       "2   1676  258219\n",
       "3    921  179060\n",
       "4   1844  320366\n",
       "5   1504  257214"
      ]
     },
     "execution_count": 8,
     "metadata": {},
     "output_type": "execute_result"
    }
   ],
   "source": [
    "first = table1['1회차 접종'][1:26]\n",
    "first.head()"
   ]
  },
  {
   "cell_type": "code",
   "execution_count": 9,
   "id": "5e1d33c7",
   "metadata": {
    "scrolled": true
   },
   "outputs": [
    {
     "data": {
      "text/plain": [
       "Index(['당일 접종', '당일 누계'], dtype='object')"
      ]
     },
     "execution_count": 9,
     "metadata": {},
     "output_type": "execute_result"
    }
   ],
   "source": [
    "first.columns"
   ]
  },
  {
   "cell_type": "code",
   "execution_count": 10,
   "id": "3b0e11ad",
   "metadata": {
    "scrolled": true
   },
   "outputs": [
    {
     "data": {
      "text/html": [
       "<div>\n",
       "<style scoped>\n",
       "    .dataframe tbody tr th:only-of-type {\n",
       "        vertical-align: middle;\n",
       "    }\n",
       "\n",
       "    .dataframe tbody tr th {\n",
       "        vertical-align: top;\n",
       "    }\n",
       "\n",
       "    .dataframe thead th {\n",
       "        text-align: right;\n",
       "    }\n",
       "</style>\n",
       "<table border=\"1\" class=\"dataframe\">\n",
       "  <thead>\n",
       "    <tr style=\"text-align: right;\">\n",
       "      <th></th>\n",
       "      <th>1회차 당일 접종</th>\n",
       "      <th>1회차 당일 누계</th>\n",
       "    </tr>\n",
       "  </thead>\n",
       "  <tbody>\n",
       "    <tr>\n",
       "      <th>1</th>\n",
       "      <td>1891</td>\n",
       "      <td>285976</td>\n",
       "    </tr>\n",
       "    <tr>\n",
       "      <th>2</th>\n",
       "      <td>1676</td>\n",
       "      <td>258219</td>\n",
       "    </tr>\n",
       "    <tr>\n",
       "      <th>3</th>\n",
       "      <td>921</td>\n",
       "      <td>179060</td>\n",
       "    </tr>\n",
       "    <tr>\n",
       "      <th>4</th>\n",
       "      <td>1844</td>\n",
       "      <td>320366</td>\n",
       "    </tr>\n",
       "    <tr>\n",
       "      <th>5</th>\n",
       "      <td>1504</td>\n",
       "      <td>257214</td>\n",
       "    </tr>\n",
       "  </tbody>\n",
       "</table>\n",
       "</div>"
      ],
      "text/plain": [
       "   1회차 당일 접종  1회차 당일 누계\n",
       "1       1891     285976\n",
       "2       1676     258219\n",
       "3        921     179060\n",
       "4       1844     320366\n",
       "5       1504     257214"
      ]
     },
     "execution_count": 10,
     "metadata": {},
     "output_type": "execute_result"
    }
   ],
   "source": [
    "first.columns = ['1회차 당일 접종', '1회차 당일 누계']\n",
    "    # 열 이름 바꾸는 명령어: df.rename(columns={'Before':'After'}) , df.columns = ['col', 'col', 'col']\n",
    "first.head()"
   ]
  },
  {
   "cell_type": "code",
   "execution_count": 11,
   "id": "3b6e8a1c",
   "metadata": {},
   "outputs": [
    {
     "data": {
      "text/plain": [
       "34235"
      ]
     },
     "execution_count": 11,
     "metadata": {},
     "output_type": "execute_result"
    }
   ],
   "source": [
    "day_total = sum(first['1회차 당일 접종'])\n",
    "day_total"
   ]
  },
  {
   "cell_type": "code",
   "execution_count": 12,
   "id": "1fcc75b9",
   "metadata": {
    "scrolled": true
   },
   "outputs": [
    {
     "data": {
      "text/plain": [
       "5450266"
      ]
     },
     "execution_count": 12,
     "metadata": {},
     "output_type": "execute_result"
    }
   ],
   "source": [
    "day_sum = sum(first['1회차 당일 누계'])\n",
    "day_sum"
   ]
  },
  {
   "cell_type": "code",
   "execution_count": 13,
   "id": "cef0ac4f",
   "metadata": {
    "scrolled": true
   },
   "outputs": [
    {
     "data": {
      "text/plain": [
       "1369.4"
      ]
     },
     "execution_count": 13,
     "metadata": {},
     "output_type": "execute_result"
    }
   ],
   "source": [
    "day_total_avg = day_total/25\n",
    "day_total_avg"
   ]
  },
  {
   "cell_type": "code",
   "execution_count": 14,
   "id": "d6e21229",
   "metadata": {},
   "outputs": [
    {
     "data": {
      "text/plain": [
       "218010.64"
      ]
     },
     "execution_count": 14,
     "metadata": {},
     "output_type": "execute_result"
    }
   ],
   "source": [
    "day_sum_avg = day_sum/25\n",
    "day_sum_avg"
   ]
  },
  {
   "cell_type": "code",
   "execution_count": 15,
   "id": "761f2325",
   "metadata": {},
   "outputs": [
    {
     "data": {
      "text/html": [
       "<div>\n",
       "<style scoped>\n",
       "    .dataframe tbody tr th:only-of-type {\n",
       "        vertical-align: middle;\n",
       "    }\n",
       "\n",
       "    .dataframe tbody tr th {\n",
       "        vertical-align: top;\n",
       "    }\n",
       "\n",
       "    .dataframe thead th {\n",
       "        text-align: right;\n",
       "    }\n",
       "</style>\n",
       "<table border=\"1\" class=\"dataframe\">\n",
       "  <thead>\n",
       "    <tr style=\"text-align: right;\">\n",
       "      <th></th>\n",
       "      <th>1회차 당일 접종</th>\n",
       "      <th>1회차 당일 누계</th>\n",
       "    </tr>\n",
       "  </thead>\n",
       "  <tbody>\n",
       "    <tr>\n",
       "      <th>1</th>\n",
       "      <td>1891</td>\n",
       "      <td>285976</td>\n",
       "    </tr>\n",
       "    <tr>\n",
       "      <th>2</th>\n",
       "      <td>1676</td>\n",
       "      <td>258219</td>\n",
       "    </tr>\n",
       "    <tr>\n",
       "      <th>3</th>\n",
       "      <td>921</td>\n",
       "      <td>179060</td>\n",
       "    </tr>\n",
       "    <tr>\n",
       "      <th>4</th>\n",
       "      <td>1844</td>\n",
       "      <td>320366</td>\n",
       "    </tr>\n",
       "    <tr>\n",
       "      <th>5</th>\n",
       "      <td>1504</td>\n",
       "      <td>257214</td>\n",
       "    </tr>\n",
       "  </tbody>\n",
       "</table>\n",
       "</div>"
      ],
      "text/plain": [
       "   1회차 당일 접종  1회차 당일 누계\n",
       "1       1891     285976\n",
       "2       1676     258219\n",
       "3        921     179060\n",
       "4       1844     320366\n",
       "5       1504     257214"
      ]
     },
     "execution_count": 15,
     "metadata": {},
     "output_type": "execute_result"
    }
   ],
   "source": [
    "new_row = pd.Series([day_total, day_sum], index = first.columns, name='합계')\n",
    "first.append(new_row).head()"
   ]
  },
  {
   "cell_type": "code",
   "execution_count": 16,
   "id": "c309dd53",
   "metadata": {},
   "outputs": [
    {
     "data": {
      "text/html": [
       "<div>\n",
       "<style scoped>\n",
       "    .dataframe tbody tr th:only-of-type {\n",
       "        vertical-align: middle;\n",
       "    }\n",
       "\n",
       "    .dataframe tbody tr th {\n",
       "        vertical-align: top;\n",
       "    }\n",
       "\n",
       "    .dataframe thead th {\n",
       "        text-align: right;\n",
       "    }\n",
       "</style>\n",
       "<table border=\"1\" class=\"dataframe\">\n",
       "  <thead>\n",
       "    <tr style=\"text-align: right;\">\n",
       "      <th></th>\n",
       "      <th>당일 실적</th>\n",
       "      <th>당일 누계</th>\n",
       "    </tr>\n",
       "  </thead>\n",
       "  <tbody>\n",
       "    <tr>\n",
       "      <th>1</th>\n",
       "      <td>5094</td>\n",
       "      <td>163555</td>\n",
       "    </tr>\n",
       "    <tr>\n",
       "      <th>2</th>\n",
       "      <td>5505</td>\n",
       "      <td>143925</td>\n",
       "    </tr>\n",
       "    <tr>\n",
       "      <th>3</th>\n",
       "      <td>2796</td>\n",
       "      <td>103093</td>\n",
       "    </tr>\n",
       "    <tr>\n",
       "      <th>4</th>\n",
       "      <td>5778</td>\n",
       "      <td>184156</td>\n",
       "    </tr>\n",
       "    <tr>\n",
       "      <th>5</th>\n",
       "      <td>3560</td>\n",
       "      <td>146272</td>\n",
       "    </tr>\n",
       "  </tbody>\n",
       "</table>\n",
       "</div>"
      ],
      "text/plain": [
       "   당일 실적   당일 누계\n",
       "1   5094  163555\n",
       "2   5505  143925\n",
       "3   2796  103093\n",
       "4   5778  184156\n",
       "5   3560  146272"
      ]
     },
     "execution_count": 16,
     "metadata": {},
     "output_type": "execute_result"
    }
   ],
   "source": [
    "finish = table1['접종완료'][1:26]\n",
    "finish.head()"
   ]
  },
  {
   "cell_type": "code",
   "execution_count": 34,
   "id": "f6f3ff0d",
   "metadata": {},
   "outputs": [
    {
     "data": {
      "text/html": [
       "<div>\n",
       "<style scoped>\n",
       "    .dataframe tbody tr th:only-of-type {\n",
       "        vertical-align: middle;\n",
       "    }\n",
       "\n",
       "    .dataframe tbody tr th {\n",
       "        vertical-align: top;\n",
       "    }\n",
       "\n",
       "    .dataframe thead th {\n",
       "        text-align: right;\n",
       "    }\n",
       "</style>\n",
       "<table border=\"1\" class=\"dataframe\">\n",
       "  <thead>\n",
       "    <tr style=\"text-align: right;\">\n",
       "      <th></th>\n",
       "      <th>접종완료 당일 실적</th>\n",
       "      <th>접종완료 당일 누계</th>\n",
       "    </tr>\n",
       "  </thead>\n",
       "  <tbody>\n",
       "    <tr>\n",
       "      <th>21</th>\n",
       "      <td>1942</td>\n",
       "      <td>69752</td>\n",
       "    </tr>\n",
       "    <tr>\n",
       "      <th>22</th>\n",
       "      <td>3811</td>\n",
       "      <td>154314</td>\n",
       "    </tr>\n",
       "    <tr>\n",
       "      <th>23</th>\n",
       "      <td>1403</td>\n",
       "      <td>69333</td>\n",
       "    </tr>\n",
       "    <tr>\n",
       "      <th>24</th>\n",
       "      <td>1450</td>\n",
       "      <td>50264</td>\n",
       "    </tr>\n",
       "    <tr>\n",
       "      <th>25</th>\n",
       "      <td>3655</td>\n",
       "      <td>126960</td>\n",
       "    </tr>\n",
       "  </tbody>\n",
       "</table>\n",
       "</div>"
      ],
      "text/plain": [
       "    접종완료 당일 실적  접종완료 당일 누계\n",
       "21        1942       69752\n",
       "22        3811      154314\n",
       "23        1403       69333\n",
       "24        1450       50264\n",
       "25        3655      126960"
      ]
     },
     "execution_count": 34,
     "metadata": {},
     "output_type": "execute_result"
    }
   ],
   "source": [
    "finish.columns = ['접종완료 당일 실적', '접종완료 당일 누계']\n",
    "    # 열 이름 바꾸는 명령어: df.rename(columns={'Before':'After'}) , df.columns = ['col', 'col', 'col']\n",
    "finish.tail()"
   ]
  },
  {
   "cell_type": "code",
   "execution_count": 18,
   "id": "d9e5e2fe",
   "metadata": {},
   "outputs": [
    {
     "data": {
      "text/plain": [
       "94420"
      ]
     },
     "execution_count": 18,
     "metadata": {},
     "output_type": "execute_result"
    }
   ],
   "source": [
    "finish_total = sum(finish['접종완료 당일 실적'])\n",
    "finish_total"
   ]
  },
  {
   "cell_type": "code",
   "execution_count": 19,
   "id": "6d23122c",
   "metadata": {},
   "outputs": [
    {
     "data": {
      "text/plain": [
       "3054297"
      ]
     },
     "execution_count": 19,
     "metadata": {},
     "output_type": "execute_result"
    }
   ],
   "source": [
    "finish_sum = sum(finish['접종완료 당일 누계'])\n",
    "finish_sum"
   ]
  },
  {
   "cell_type": "code",
   "execution_count": 20,
   "id": "57c92b6d",
   "metadata": {},
   "outputs": [
    {
     "data": {
      "text/plain": [
       "3776.8"
      ]
     },
     "execution_count": 20,
     "metadata": {},
     "output_type": "execute_result"
    }
   ],
   "source": [
    "finish_total_avg = finish_total/25\n",
    "finish_total_avg"
   ]
  },
  {
   "cell_type": "code",
   "execution_count": 21,
   "id": "b1abfec6",
   "metadata": {},
   "outputs": [
    {
     "data": {
      "text/plain": [
       "122171.88"
      ]
     },
     "execution_count": 21,
     "metadata": {},
     "output_type": "execute_result"
    }
   ],
   "source": [
    "finish_sum_avg = finish_sum/25\n",
    "finish_sum_avg"
   ]
  },
  {
   "cell_type": "code",
   "execution_count": 112,
   "id": "60255652",
   "metadata": {
    "scrolled": true
   },
   "outputs": [
    {
     "data": {
      "text/html": [
       "<div>\n",
       "<style scoped>\n",
       "    .dataframe tbody tr th:only-of-type {\n",
       "        vertical-align: middle;\n",
       "    }\n",
       "\n",
       "    .dataframe tbody tr th {\n",
       "        vertical-align: top;\n",
       "    }\n",
       "\n",
       "    .dataframe thead th {\n",
       "        text-align: right;\n",
       "    }\n",
       "</style>\n",
       "<table border=\"1\" class=\"dataframe\">\n",
       "  <thead>\n",
       "    <tr style=\"text-align: right;\">\n",
       "      <th></th>\n",
       "      <th>구분</th>\n",
       "      <th>1회차 당일 접종</th>\n",
       "      <th>1회차 당일 누계</th>\n",
       "      <th>접종완료 당일 실적</th>\n",
       "      <th>접종완료 당일 누계</th>\n",
       "    </tr>\n",
       "  </thead>\n",
       "  <tbody>\n",
       "    <tr>\n",
       "      <th>1</th>\n",
       "      <td>서울특별시강남구보건소</td>\n",
       "      <td>1891</td>\n",
       "      <td>285976</td>\n",
       "      <td>5094</td>\n",
       "      <td>163555</td>\n",
       "    </tr>\n",
       "    <tr>\n",
       "      <th>2</th>\n",
       "      <td>서울특별시강동구보건소</td>\n",
       "      <td>1676</td>\n",
       "      <td>258219</td>\n",
       "      <td>5505</td>\n",
       "      <td>143925</td>\n",
       "    </tr>\n",
       "    <tr>\n",
       "      <th>3</th>\n",
       "      <td>서울특별시강북구보건소</td>\n",
       "      <td>921</td>\n",
       "      <td>179060</td>\n",
       "      <td>2796</td>\n",
       "      <td>103093</td>\n",
       "    </tr>\n",
       "    <tr>\n",
       "      <th>4</th>\n",
       "      <td>서울특별시강서구보건소</td>\n",
       "      <td>1844</td>\n",
       "      <td>320366</td>\n",
       "      <td>5778</td>\n",
       "      <td>184156</td>\n",
       "    </tr>\n",
       "    <tr>\n",
       "      <th>5</th>\n",
       "      <td>서울특별시관악구보건소</td>\n",
       "      <td>1504</td>\n",
       "      <td>257214</td>\n",
       "      <td>3560</td>\n",
       "      <td>146272</td>\n",
       "    </tr>\n",
       "  </tbody>\n",
       "</table>\n",
       "</div>"
      ],
      "text/plain": [
       "            구분  1회차 당일 접종  1회차 당일 누계  접종완료 당일 실적  접종완료 당일 누계\n",
       "1  서울특별시강남구보건소       1891     285976        5094      163555\n",
       "2  서울특별시강동구보건소       1676     258219        5505      143925\n",
       "3  서울특별시강북구보건소        921     179060        2796      103093\n",
       "4  서울특별시강서구보건소       1844     320366        5778      184156\n",
       "5  서울특별시관악구보건소       1504     257214        3560      146272"
      ]
     },
     "execution_count": 112,
     "metadata": {},
     "output_type": "execute_result"
    }
   ],
   "source": [
    "new_table = pd.concat([a, first, finish], axis=1)\n",
    "new_table.head()"
   ]
  },
  {
   "cell_type": "code",
   "execution_count": 113,
   "id": "23183091",
   "metadata": {},
   "outputs": [
    {
     "data": {
      "text/plain": [
       "Index(['구분', '1회차 당일 접종', '1회차 당일 누계', '접종완료 당일 실적', '접종완료 당일 누계'], dtype='object')"
      ]
     },
     "execution_count": 113,
     "metadata": {},
     "output_type": "execute_result"
    }
   ],
   "source": [
    "new_table.columns"
   ]
  },
  {
   "cell_type": "code",
   "execution_count": 116,
   "id": "ceb39eb0",
   "metadata": {},
   "outputs": [
    {
     "data": {
      "text/html": [
       "<div>\n",
       "<style scoped>\n",
       "    .dataframe tbody tr th:only-of-type {\n",
       "        vertical-align: middle;\n",
       "    }\n",
       "\n",
       "    .dataframe tbody tr th {\n",
       "        vertical-align: top;\n",
       "    }\n",
       "\n",
       "    .dataframe thead th {\n",
       "        text-align: right;\n",
       "    }\n",
       "</style>\n",
       "<table border=\"1\" class=\"dataframe\">\n",
       "  <thead>\n",
       "    <tr style=\"text-align: right;\">\n",
       "      <th></th>\n",
       "      <th>1회차 당일 접종</th>\n",
       "      <th>1회차 당일 누계</th>\n",
       "      <th>접종완료 당일 실적</th>\n",
       "      <th>접종완료 당일 누계</th>\n",
       "    </tr>\n",
       "    <tr>\n",
       "      <th>구분</th>\n",
       "      <th></th>\n",
       "      <th></th>\n",
       "      <th></th>\n",
       "      <th></th>\n",
       "    </tr>\n",
       "  </thead>\n",
       "  <tbody>\n",
       "    <tr>\n",
       "      <th>서울특별시용산구보건소</th>\n",
       "      <td>836</td>\n",
       "      <td>123632</td>\n",
       "      <td>1942</td>\n",
       "      <td>69752</td>\n",
       "    </tr>\n",
       "    <tr>\n",
       "      <th>서울특별시은평구보건소</th>\n",
       "      <td>1361</td>\n",
       "      <td>270593</td>\n",
       "      <td>3811</td>\n",
       "      <td>154314</td>\n",
       "    </tr>\n",
       "    <tr>\n",
       "      <th>서울특별시종로구보건소</th>\n",
       "      <td>685</td>\n",
       "      <td>114927</td>\n",
       "      <td>1403</td>\n",
       "      <td>69333</td>\n",
       "    </tr>\n",
       "    <tr>\n",
       "      <th>서울특별시중구보건소</th>\n",
       "      <td>474</td>\n",
       "      <td>84201</td>\n",
       "      <td>1450</td>\n",
       "      <td>50264</td>\n",
       "    </tr>\n",
       "    <tr>\n",
       "      <th>서울특별시중랑구보건소</th>\n",
       "      <td>1364</td>\n",
       "      <td>226033</td>\n",
       "      <td>3655</td>\n",
       "      <td>126960</td>\n",
       "    </tr>\n",
       "  </tbody>\n",
       "</table>\n",
       "</div>"
      ],
      "text/plain": [
       "             1회차 당일 접종  1회차 당일 누계  접종완료 당일 실적  접종완료 당일 누계\n",
       "구분                                                       \n",
       "서울특별시용산구보건소        836     123632        1942       69752\n",
       "서울특별시은평구보건소       1361     270593        3811      154314\n",
       "서울특별시종로구보건소        685     114927        1403       69333\n",
       "서울특별시중구보건소         474      84201        1450       50264\n",
       "서울특별시중랑구보건소       1364     226033        3655      126960"
      ]
     },
     "execution_count": 116,
     "metadata": {},
     "output_type": "execute_result"
    }
   ],
   "source": [
    "c = new_table.set_index('구분')\n",
    "c.tail()"
   ]
  },
  {
   "cell_type": "code",
   "execution_count": 64,
   "id": "b4e14629",
   "metadata": {},
   "outputs": [
    {
     "data": {
      "text/html": [
       "<div>\n",
       "<style scoped>\n",
       "    .dataframe tbody tr th:only-of-type {\n",
       "        vertical-align: middle;\n",
       "    }\n",
       "\n",
       "    .dataframe tbody tr th {\n",
       "        vertical-align: top;\n",
       "    }\n",
       "\n",
       "    .dataframe thead th {\n",
       "        text-align: right;\n",
       "    }\n",
       "</style>\n",
       "<table border=\"1\" class=\"dataframe\">\n",
       "  <thead>\n",
       "    <tr style=\"text-align: right;\">\n",
       "      <th></th>\n",
       "      <th>구분</th>\n",
       "      <th>1회차 당일 접종</th>\n",
       "      <th>1회차 당일 누계</th>\n",
       "      <th>접종완료 당일 실적</th>\n",
       "      <th>접종완료 당일 누계</th>\n",
       "    </tr>\n",
       "  </thead>\n",
       "  <tbody>\n",
       "    <tr>\n",
       "      <th>22</th>\n",
       "      <td>서울특별시은평구보건소</td>\n",
       "      <td>1361</td>\n",
       "      <td>270593</td>\n",
       "      <td>3811</td>\n",
       "      <td>154314</td>\n",
       "    </tr>\n",
       "    <tr>\n",
       "      <th>23</th>\n",
       "      <td>서울특별시종로구보건소</td>\n",
       "      <td>685</td>\n",
       "      <td>114927</td>\n",
       "      <td>1403</td>\n",
       "      <td>69333</td>\n",
       "    </tr>\n",
       "    <tr>\n",
       "      <th>24</th>\n",
       "      <td>서울특별시중구보건소</td>\n",
       "      <td>474</td>\n",
       "      <td>84201</td>\n",
       "      <td>1450</td>\n",
       "      <td>50264</td>\n",
       "    </tr>\n",
       "    <tr>\n",
       "      <th>25</th>\n",
       "      <td>서울특별시중랑구보건소</td>\n",
       "      <td>1364</td>\n",
       "      <td>226033</td>\n",
       "      <td>3655</td>\n",
       "      <td>126960</td>\n",
       "    </tr>\n",
       "    <tr>\n",
       "      <th>합계</th>\n",
       "      <td>합계</td>\n",
       "      <td>34235</td>\n",
       "      <td>5450266</td>\n",
       "      <td>94420</td>\n",
       "      <td>3054297</td>\n",
       "    </tr>\n",
       "  </tbody>\n",
       "</table>\n",
       "</div>"
      ],
      "text/plain": [
       "             구분  1회차 당일 접종  1회차 당일 누계  접종완료 당일 실적  접종완료 당일 누계\n",
       "22  서울특별시은평구보건소       1361     270593        3811      154314\n",
       "23  서울특별시종로구보건소        685     114927        1403       69333\n",
       "24   서울특별시중구보건소        474      84201        1450       50264\n",
       "25  서울특별시중랑구보건소       1364     226033        3655      126960\n",
       "합계           합계      34235    5450266       94420     3054297"
      ]
     },
     "execution_count": 64,
     "metadata": {},
     "output_type": "execute_result"
    }
   ],
   "source": [
    "new_sum = pd.Series(['합계', day_total, day_sum, finish_total, finish_sum], index = new_table.columns, name = '합계')\n",
    "table_m = new_table.append(new_sum)\n",
    "table_m.tail()"
   ]
  },
  {
   "cell_type": "code",
   "execution_count": 66,
   "id": "060c3948",
   "metadata": {},
   "outputs": [
    {
     "data": {
      "text/html": [
       "<div>\n",
       "<style scoped>\n",
       "    .dataframe tbody tr th:only-of-type {\n",
       "        vertical-align: middle;\n",
       "    }\n",
       "\n",
       "    .dataframe tbody tr th {\n",
       "        vertical-align: top;\n",
       "    }\n",
       "\n",
       "    .dataframe thead th {\n",
       "        text-align: right;\n",
       "    }\n",
       "</style>\n",
       "<table border=\"1\" class=\"dataframe\">\n",
       "  <thead>\n",
       "    <tr style=\"text-align: right;\">\n",
       "      <th></th>\n",
       "      <th>구분</th>\n",
       "      <th>1회차 당일 접종</th>\n",
       "      <th>1회차 당일 누계</th>\n",
       "      <th>접종완료 당일 실적</th>\n",
       "      <th>접종완료 당일 누계</th>\n",
       "    </tr>\n",
       "  </thead>\n",
       "  <tbody>\n",
       "    <tr>\n",
       "      <th>23</th>\n",
       "      <td>서울특별시종로구보건소</td>\n",
       "      <td>685.0</td>\n",
       "      <td>114927.00</td>\n",
       "      <td>1403.0</td>\n",
       "      <td>69333.00</td>\n",
       "    </tr>\n",
       "    <tr>\n",
       "      <th>24</th>\n",
       "      <td>서울특별시중구보건소</td>\n",
       "      <td>474.0</td>\n",
       "      <td>84201.00</td>\n",
       "      <td>1450.0</td>\n",
       "      <td>50264.00</td>\n",
       "    </tr>\n",
       "    <tr>\n",
       "      <th>25</th>\n",
       "      <td>서울특별시중랑구보건소</td>\n",
       "      <td>1364.0</td>\n",
       "      <td>226033.00</td>\n",
       "      <td>3655.0</td>\n",
       "      <td>126960.00</td>\n",
       "    </tr>\n",
       "    <tr>\n",
       "      <th>합계</th>\n",
       "      <td>합계</td>\n",
       "      <td>34235.0</td>\n",
       "      <td>5450266.00</td>\n",
       "      <td>94420.0</td>\n",
       "      <td>3054297.00</td>\n",
       "    </tr>\n",
       "    <tr>\n",
       "      <th>평균</th>\n",
       "      <td>평균</td>\n",
       "      <td>1369.4</td>\n",
       "      <td>218010.64</td>\n",
       "      <td>3776.8</td>\n",
       "      <td>122171.88</td>\n",
       "    </tr>\n",
       "  </tbody>\n",
       "</table>\n",
       "</div>"
      ],
      "text/plain": [
       "             구분  1회차 당일 접종   1회차 당일 누계  접종완료 당일 실적  접종완료 당일 누계\n",
       "23  서울특별시종로구보건소      685.0   114927.00      1403.0    69333.00\n",
       "24   서울특별시중구보건소      474.0    84201.00      1450.0    50264.00\n",
       "25  서울특별시중랑구보건소     1364.0   226033.00      3655.0   126960.00\n",
       "합계           합계    34235.0  5450266.00     94420.0  3054297.00\n",
       "평균           평균     1369.4   218010.64      3776.8   122171.88"
      ]
     },
     "execution_count": 66,
     "metadata": {},
     "output_type": "execute_result"
    }
   ],
   "source": [
    "new_avg = pd.Series(['평균', day_total_avg, day_sum_avg, finish_total_avg, finish_sum_avg], index = table_m.columns, name='평균')\n",
    "table_f = table_m.append(new_avg)\n",
    "table_f.tail()"
   ]
  },
  {
   "cell_type": "code",
   "execution_count": 67,
   "id": "2cea2b3b",
   "metadata": {},
   "outputs": [],
   "source": [
    "table_f.to_csv('table.csv',mode=\"w\",encoding='euc-kr')"
   ]
  },
  {
   "cell_type": "code",
   "execution_count": 127,
   "id": "d09cbdb3",
   "metadata": {
    "scrolled": true
   },
   "outputs": [
    {
     "name": "stdout",
     "output_type": "stream",
     "text": [
      "C:\\Anaconda3\\lib\\site-packages\\matplotlib\\mpl-data\\matplotlibrc\n"
     ]
    }
   ],
   "source": [
    "import matplotlib as mpl\n",
    "\n",
    "print(mpl.matplotlib_fname())"
   ]
  },
  {
   "cell_type": "code",
   "execution_count": 73,
   "id": "a1cab5c5",
   "metadata": {},
   "outputs": [],
   "source": [
    "import matplotlib as mpl\n",
    "import matplotlib.pyplot as plt\n",
    "\n",
    "from matplotlib import font_manager, rc\n",
    "font_path = \"C:/Windows/Fonts/malgun.TTF\" \n",
    "font = font_manager.FontProperties(fname=font_path).get_name()\n",
    "rc('font', family=font)"
   ]
  },
  {
   "cell_type": "code",
   "execution_count": 117,
   "id": "2a23fbe5",
   "metadata": {},
   "outputs": [
    {
     "data": {
      "image/png": "[encoded data removed]",
      "text/plain": [
       "<Figure size 1080x1080 with 1 Axes>"
      ]
     },
     "metadata": {
      "needs_background": "light"
     },
     "output_type": "display_data"
    }
   ],
   "source": [
    "import matplotlib.pyplot as plt\n",
    "c.plot(kind = 'bar', grid = True, figsize = (15,15))\n",
    "plt.title('서울시 행정구역별 코로나19 백신 접종현황')\n",
    "\n",
    "plt.legend(loc='best', ncol=1, fontsize=14)\n",
    "plt.show()"
   ]
  },
  {
   "cell_type": "code",
   "execution_count": null,
   "id": "c6299fc2",
   "metadata": {},
   "outputs": [],
   "source": []
  }
 ],
 "metadata": {
  "kernelspec": {
   "display_name": "Python 3",
   "language": "python",
   "name": "python3"
  },
  "language_info": {
   "codemirror_mode": {
    "name": "ipython",
    "version": 3
   },
   "file_extension": ".py",
   "mimetype": "text/x-python",
   "name": "python",
   "nbconvert_exporter": "python",
   "pygments_lexer": "ipython3",
   "version": "3.8.8"
  }
 },
 "nbformat": 4,
 "nbformat_minor": 5
}
